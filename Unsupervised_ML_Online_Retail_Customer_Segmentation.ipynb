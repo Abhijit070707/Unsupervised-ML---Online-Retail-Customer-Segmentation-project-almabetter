{
  "nbformat": 4,
  "nbformat_minor": 0,
  "metadata": {
    "colab": {
      "private_outputs": true,
      "provenance": [],
      "collapsed_sections": [
        "w6K7xa23Elo4",
        "yQaldy8SH6Dl",
        "mDgbUHAGgjLW",
        "Yfr_Vlr8HBkt",
        "EyNgTHvd2WFk",
        "KH5McJBi2d8v",
        "iW_Lq9qf2h6X",
        "-Kee-DAl2viO",
        "gIfDvo9L0UH2"
      ],
      "include_colab_link": true
    },
    "kernelspec": {
      "name": "python3",
      "display_name": "Python 3"
    },
    "language_info": {
      "name": "python"
    }
  },
  "cells": [
    {
      "cell_type": "markdown",
      "metadata": {
        "id": "view-in-github",
        "colab_type": "text"
      },
      "source": [
        "<a href=\"https://colab.research.google.com/github/Abhijit070707/Unsupervised-ML---Online-Retail-Customer-Segmentation-project-almabetter/blob/main/Unsupervised_ML_Online_Retail_Customer_Segmentation.ipynb\" target=\"_parent\"><img src=\"https://colab.research.google.com/assets/colab-badge.svg\" alt=\"Open In Colab\"/></a>"
      ]
    },
    {
      "cell_type": "markdown",
      "source": [
        "# **Project Name**    -\n",
        "\n"
      ],
      "metadata": {
        "id": "vncDsAP0Gaoa"
      }
    },
    {
      "cell_type": "markdown",
      "source": [
        "# **Project Type**   -  EDA/Regression/Classification/Unsupervised\n",
        "\n",
        "# **Contribution**    - Individual\n",
        "# **Team Member**    - Abhijit Santra"
      ],
      "metadata": {
        "id": "beRrZCGUAJYm"
      }
    },
    {
      "cell_type": "markdown",
      "source": [
        "# **Project Summary -**"
      ],
      "metadata": {
        "id": "FJNUwmbgGyua"
      }
    },
    {
      "cell_type": "markdown",
      "source": [
        "Write the summary here within 500-600 words."
      ],
      "metadata": {
        "id": "F6v_1wHtG2nS"
      }
    },
    {
      "cell_type": "markdown",
      "source": [
        "# **GitHub Link -**"
      ],
      "metadata": {
        "id": "w6K7xa23Elo4"
      }
    },
    {
      "cell_type": "markdown",
      "source": [
        "Provide your GitHub Link here."
      ],
      "metadata": {
        "id": "h1o69JH3Eqqn"
      }
    },
    {
      "cell_type": "markdown",
      "source": [
        "# **Problem Statement**\n"
      ],
      "metadata": {
        "id": "yQaldy8SH6Dl"
      }
    },
    {
      "cell_type": "markdown",
      "source": [
        "**Write Problem Statement Here.**"
      ],
      "metadata": {
        "id": "DpeJGUA3kjGy"
      }
    },
    {
      "cell_type": "markdown",
      "source": [
        "# **General Guidelines** : -  "
      ],
      "metadata": {
        "id": "mDgbUHAGgjLW"
      }
    },
    {
      "cell_type": "markdown",
      "source": [
        "1.   Well-structured, formatted, and commented code is required.\n",
        "2.   Exception Handling, Production Grade Code & Deployment Ready Code will be a plus. Those students will be awarded some additional credits.\n",
        "     \n",
        "     The additional credits will have advantages over other students during Star Student selection.\n",
        "       \n",
        "             [ Note: - Deployment Ready Code is defined as, the whole .ipynb notebook should be executable in one go\n",
        "                       without a single error logged. ]\n",
        "\n",
        "3.   Each and every logic should have proper comments.\n",
        "4. You may add as many number of charts you want. Make Sure for each and every chart the following format should be answered.\n",
        "        \n",
        "\n",
        "```\n",
        "# Chart visualization code\n",
        "```\n",
        "            \n",
        "\n",
        "*   Why did you pick the specific chart?\n",
        "*   What is/are the insight(s) found from the chart?\n",
        "* Will the gained insights help creating a positive business impact?\n",
        "Are there any insights that lead to negative growth? Justify with specific reason.\n",
        "\n",
        "5. You have to create at least 15 logical & meaningful charts having important insights.\n",
        "\n",
        "\n",
        "[ Hints : - Do the Vizualization in  a structured way while following \"UBM\" Rule.\n",
        "\n",
        "U - Univariate Analysis,\n",
        "\n",
        "B - Bivariate Analysis (Numerical - Categorical, Numerical - Numerical, Categorical - Categorical)\n",
        "\n",
        "M - Multivariate Analysis\n",
        " ]\n",
        "\n",
        "\n",
        "\n",
        "\n",
        "\n",
        "6. You may add more ml algorithms for model creation. Make sure for each and every algorithm, the following format should be answered.\n",
        "\n",
        "\n",
        "*   Explain the ML Model used and it's performance using Evaluation metric Score Chart.\n",
        "\n",
        "\n",
        "*   Cross- Validation & Hyperparameter Tuning\n",
        "\n",
        "*   Have you seen any improvement? Note down the improvement with updates Evaluation metric Score Chart.\n",
        "\n",
        "*   Explain each evaluation metric's indication towards business and the business impact pf the ML model used.\n",
        "\n",
        "\n",
        "\n",
        "\n",
        "\n",
        "\n",
        "\n",
        "\n",
        "\n",
        "\n",
        "\n",
        "\n",
        "\n",
        "\n",
        "\n",
        "\n",
        "\n",
        "\n"
      ],
      "metadata": {
        "id": "ZrxVaUj-hHfC"
      }
    },
    {
      "cell_type": "markdown",
      "source": [
        "# ***Let's Begin !***"
      ],
      "metadata": {
        "id": "O_i_v8NEhb9l"
      }
    },
    {
      "cell_type": "markdown",
      "source": [
        "## ***1. Know Your Data***"
      ],
      "metadata": {
        "id": "HhfV-JJviCcP"
      }
    },
    {
      "cell_type": "markdown",
      "source": [
        "### Import Libraries"
      ],
      "metadata": {
        "id": "Y3lxredqlCYt"
      }
    },
    {
      "cell_type": "code",
      "source": [
        "# Import Libraries\n",
        "# Import Libraries\n",
        "\n",
        "# Data Manipulation and Analysis\n",
        "import numpy as np\n",
        "import pandas as pd\n",
        "\n",
        "# Data Visualization\n",
        "import seaborn as sns\n",
        "import matplotlib.pyplot as plt\n",
        "import missingno as msno\n",
        "import plotly.express as px\n",
        "\n",
        "\n",
        "import time\n",
        "import warnings\n",
        "\n",
        "\n",
        "import datetime as dt\n",
        "# Date and Time Handling\n",
        "from datetime import datetime\n",
        "\n",
        "# Other Libraries and Configurations\n",
        "from numpy import math\n",
        "import warnings\n",
        "from pylab import rcParams\n",
        "from google.colab import drive\n",
        "\n",
        "sns.set()\n",
        "warnings.filterwarnings('ignore')\n",
        "from sklearn.preprocessing import StandardScaler\n",
        "from sklearn.metrics import silhouette_score\n",
        "from sklearn import preprocessing\n",
        "from sklearn.datasets import make_blobs\n",
        "from sklearn.cluster import KMeans\n",
        "from sklearn.metrics import silhouette_samples, silhouette_score\n",
        "from sklearn.cluster import AgglomerativeClustering\n",
        "import matplotlib.pyplot as plt\n",
        "import matplotlib.cm as cm\n",
        "import numpy as np\n",
        "from sklearn.preprocessing import StandardScaler\n",
        "from scipy.cluster.hierarchy import dendrogram, linkage\n",
        "from scipy.spatial.distance import pdist\n",
        "from sklearn.cluster import DBSCAN\n",
        "from sklearn.datasets import make_blobs\n",
        "from prettytable import PrettyTable"
      ],
      "metadata": {
        "id": "M8Vqi-pPk-HR"
      },
      "execution_count": null,
      "outputs": []
    },
    {
      "cell_type": "markdown",
      "source": [
        "### Dataset Loading"
      ],
      "metadata": {
        "id": "3RnN4peoiCZX"
      }
    },
    {
      "cell_type": "code",
      "source": [
        "# Load Dataset\n",
        "\n",
        "# Mount the drive onto the '/content/drive' directory\n",
        "drive.mount('/content/drive')\n",
        "\n",
        "#Read the dataset file\n",
        "file_path = '/content/drive/MyDrive/Online Retail.xlsx'"
      ],
      "metadata": {
        "id": "4CkvbW_SlZ_R"
      },
      "execution_count": null,
      "outputs": []
    },
    {
      "cell_type": "code",
      "source": [
        "# Reading our Dataset\n",
        "data = pd.read_excel(file_path)"
      ],
      "metadata": {
        "id": "gzioeBlRGhRV"
      },
      "execution_count": null,
      "outputs": []
    },
    {
      "cell_type": "markdown",
      "source": [
        "### Dataset First View"
      ],
      "metadata": {
        "id": "x71ZqKXriCWQ"
      }
    },
    {
      "cell_type": "code",
      "source": [
        "\n",
        "# Dataset First Look\n",
        "data.head()\n",
        ""
      ],
      "metadata": {
        "id": "LWNFOSvLl09H"
      },
      "execution_count": null,
      "outputs": []
    },
    {
      "cell_type": "markdown",
      "source": [
        "### Dataset Rows & Columns count"
      ],
      "metadata": {
        "id": "7hBIi_osiCS2"
      }
    },
    {
      "cell_type": "code",
      "source": [
        "# Dataset Rows & Columns count\n",
        "print(f'there are {data.shape[0]} rows and {data.shape[1]} columns.')\n"
      ],
      "metadata": {
        "id": "Kllu7SJgmLij"
      },
      "execution_count": null,
      "outputs": []
    },
    {
      "cell_type": "markdown",
      "source": [
        "### Dataset Information"
      ],
      "metadata": {
        "id": "JlHwYmJAmNHm"
      }
    },
    {
      "cell_type": "code",
      "source": [
        "# Dataset Info\n",
        "data.info()\n"
      ],
      "metadata": {
        "id": "e9hRXRi6meOf"
      },
      "execution_count": null,
      "outputs": []
    },
    {
      "cell_type": "markdown",
      "source": [
        "#### Duplicate Values"
      ],
      "metadata": {
        "id": "35m5QtbWiB9F"
      }
    },
    {
      "cell_type": "code",
      "source": [
        "# Dataset Duplicate Value Count\n",
        "dup = data.duplicated().sum()\n",
        "print(f'There are {dup} duplicate Values in the dataset.')"
      ],
      "metadata": {
        "id": "1sLdpKYkmox0"
      },
      "execution_count": null,
      "outputs": []
    },
    {
      "cell_type": "markdown",
      "source": [
        "#### Missing Values/Null Values"
      ],
      "metadata": {
        "id": "PoPl-ycgm1ru"
      }
    },
    {
      "cell_type": "code",
      "source": [
        "# Missing Values/Null Values Count\n",
        "data.isnull().sum().sort_values(ascending=False)"
      ],
      "metadata": {
        "id": "GgHWkxvamxVg"
      },
      "execution_count": null,
      "outputs": []
    },
    {
      "cell_type": "code",
      "source": [
        "# Visualizing the missing values\n",
        "msno.matrix(data, figsize=(20, 6))\n",
        "plt.title('Missing Values Matrix')\n",
        "plt.show()"
      ],
      "metadata": {
        "id": "3q5wnI3om9sJ"
      },
      "execution_count": null,
      "outputs": []
    },
    {
      "cell_type": "markdown",
      "source": [
        "### What did you know about your dataset?"
      ],
      "metadata": {
        "id": "H0kj-8xxnORC"
      }
    },
    {
      "cell_type": "markdown",
      "source": [
        "The dataset contains sales transaction records with 541,909 rows and 8 columns. The columns include details such as invoice numbers, stock codes, descriptions, quantities, unit prices, customer IDs, and countries. The dataset has missing values in the CustomerID and Description columns. Additionally, there are 5,268 duplicate values in the dataset."
      ],
      "metadata": {
        "id": "gfoNAAC-nUe_"
      }
    },
    {
      "cell_type": "markdown",
      "source": [
        "## ***2. Understanding Your Variables***"
      ],
      "metadata": {
        "id": "nA9Y7ga8ng1Z"
      }
    },
    {
      "cell_type": "code",
      "source": [
        "# Dataset Columns\n",
        "data.columns"
      ],
      "metadata": {
        "id": "j7xfkqrt5Ag5"
      },
      "execution_count": null,
      "outputs": []
    },
    {
      "cell_type": "code",
      "source": [
        "# Dataset Describe\n",
        "data.describe([0.75,0.95,0.99])"
      ],
      "metadata": {
        "id": "DnOaZdaE5Q5t"
      },
      "execution_count": null,
      "outputs": []
    },
    {
      "cell_type": "markdown",
      "source": [
        "### Variables Description"
      ],
      "metadata": {
        "id": "PBTbrJXOngz2"
      }
    },
    {
      "cell_type": "markdown",
      "source": [
        "When examining the summary statistics generated by the describe function, it becomes evident that there are negative values present in the Quantity column. These negative values likely indicate product returns or cancellations. Similarly, the negative values in the UnitPrice column might signify refunds or discounts applied to purchases.\n",
        "\n",
        "It is worth noting that the 99th percentile values for both the UnitPrice and Quantity columns are relatively low compared to their maximum values. This implies that there are outliers present in the dataset, which could be attributed to occasional purchases of high-value items.\n",
        "\n",
        "Furthermore, there appears to be an inverse relationship between the UnitPrice and Quantity columns. As the price per unit increases, the quantity purchased tends to decrease, and vice versa. This relationship suggests that customers might be willing to buy more items when the price per unit is lower."
      ],
      "metadata": {
        "id": "aJV4KIxSnxay"
      }
    },
    {
      "cell_type": "markdown",
      "source": [
        "### Check Unique Values for each variable."
      ],
      "metadata": {
        "id": "u3PMJOP6ngxN"
      }
    },
    {
      "cell_type": "code",
      "source": [
        "# Check Unique Values for each variable.\n",
        "cols=data.columns\n",
        "for i in cols[1:]:\n",
        "  print(i)\n",
        "  print(data[i].unique())\n",
        "  print('_______________________________________________________________________')"
      ],
      "metadata": {
        "id": "zms12Yq5n-jE"
      },
      "execution_count": null,
      "outputs": []
    },
    {
      "cell_type": "code",
      "source": [
        "data.nunique()"
      ],
      "metadata": {
        "id": "4NBFcIykLSCH"
      },
      "execution_count": null,
      "outputs": []
    },
    {
      "cell_type": "markdown",
      "source": [
        "The descriptions of the items in the dataset indicate that there are more descriptions than stock codes, which implies that certain stock codes have multiple descriptions associated with them."
      ],
      "metadata": {
        "id": "jjZHGU0eLXI8"
      }
    },
    {
      "cell_type": "code",
      "source": [
        "# Stockcode which have more than one description\n",
        "stock_description = data.groupby([\"StockCode\", \"Description\"]).count().reset_index()\n",
        "\n",
        "# Get the StockCode value counts where the count is greater than 1\n",
        "# Reset the index and get the first 10 rows\n",
        "stock_description = (stock_description.StockCode.value_counts()[stock_description.StockCode.value_counts() > 1]\n",
        "                    .reset_index().head(10))\n",
        "\n",
        "# Show the result\n",
        "stock_description"
      ],
      "metadata": {
        "id": "7urXa5VALfPo"
      },
      "execution_count": null,
      "outputs": []
    },
    {
      "cell_type": "markdown",
      "source": [
        "## **Examining invoices that have been Cancelled.**\n",
        "\n",
        "\"We will search for invoices in the InvoiceNo column that contain the letter 'c' to determine if any of them have a quantity of -80995. If such an invoice is found, it would confirm that negative quantities represent cancelled orders.\""
      ],
      "metadata": {
        "id": "T7GOSXp5LjOw"
      }
    },
    {
      "cell_type": "code",
      "source": [
        "\n",
        "# Create a variable 'cancelled_orders' to store all the rows in the dataset where the value in the 'InvoiceNo' column contains the character 'C'\n",
        "cancelled_orders = data[data['InvoiceNo'].astype(str).str.contains('C')]\n",
        "\n",
        "# Display the first 20 rows of the 'cancelled_orders' dataframe\n",
        "cancelled_orders.head(20)"
      ],
      "metadata": {
        "id": "eQjAL1unLg5K"
      },
      "execution_count": null,
      "outputs": []
    },
    {
      "cell_type": "code",
      "source": [
        "# Find a transaction where the quantity is -80995\n",
        "cancelled_orders[cancelled_orders['Quantity']==-80995]"
      ],
      "metadata": {
        "id": "8XRHxkc_LuJm"
      },
      "execution_count": null,
      "outputs": []
    },
    {
      "cell_type": "code",
      "source": [
        "\n",
        "# Let's see how many cancelled orders there are in the data set\n",
        "can = len(cancelled_orders)\n",
        "print(f'there are {can} cancelled orders in the dataset.')"
      ],
      "metadata": {
        "id": "fbK_2WhtLyGf"
      },
      "execution_count": null,
      "outputs": []
    },
    {
      "cell_type": "markdown",
      "source": [
        "We observed that 9,288 orders were canceled. Analyzing these canceled orders could help prevent cancellations in the future."
      ],
      "metadata": {
        "id": "NNtkZbQUL072"
      }
    },
    {
      "cell_type": "markdown",
      "source": [
        "## 3. ***Data Wrangling***"
      ],
      "metadata": {
        "id": "dauF4eBmngu3"
      }
    },
    {
      "cell_type": "markdown",
      "source": [
        "### Data Wrangling Code"
      ],
      "metadata": {
        "id": "bKJF3rekwFvQ"
      }
    },
    {
      "cell_type": "markdown",
      "source": [
        "**Removing the Cancelled order.**"
      ],
      "metadata": {
        "id": "noXJ7gwUL5dJ"
      }
    },
    {
      "cell_type": "code",
      "source": [
        "\n",
        "# Write your code to make your dataset analysis ready.\n",
        "\n",
        "# Filter the dataframe to only include rows where the 'Quantity' column is greater than 0\n",
        "data = data[data['Quantity'] > 0]\n",
        "\n",
        "# Check the shape of the filtered dataframe\n",
        "print(\"Number of rows:\", data.shape[0], \"Number of columns:\", data.shape[1])"
      ],
      "metadata": {
        "id": "75PgS4xdL9Hz"
      },
      "execution_count": null,
      "outputs": []
    },
    {
      "cell_type": "markdown",
      "source": [
        "**Removing NAN values.**"
      ],
      "metadata": {
        "id": "5u9y89zVMLQS"
      }
    },
    {
      "cell_type": "code",
      "source": [
        "\n",
        "# Remove all rows with missing values in the 'CustomerID' column\n",
        "data.dropna(subset=['CustomerID'], how='all', inplace=True)\n",
        "\n",
        "# Check the shape of the updated dataframe\n",
        "print(data.shape)\n",
        ""
      ],
      "metadata": {
        "id": "Wa-ptDWoMFCJ"
      },
      "execution_count": null,
      "outputs": []
    },
    {
      "cell_type": "markdown",
      "source": [
        "**Removing Duplicates**"
      ],
      "metadata": {
        "id": "MYvIvtbGMUEA"
      }
    },
    {
      "cell_type": "code",
      "source": [
        "\n",
        "# remove duplicates in place in the dataframe\n",
        "data.drop_duplicates(inplace=True)"
      ],
      "metadata": {
        "id": "KN8Hjuv5MHrZ"
      },
      "execution_count": null,
      "outputs": []
    },
    {
      "cell_type": "markdown",
      "source": [
        "**Creating 'total_cost' column in retail data by multiplying 'Quantity' and 'UnitPrice' columns.**\n",
        "\n",
        "To generate a new column named 'total_cost' in the retail data, the values in the 'Quantity' column would be multiplied by the corresponding values in the 'UnitPrice' column. This multiplication operation would calculate the total cost of each transaction."
      ],
      "metadata": {
        "id": "k1mlC02bMaMO"
      }
    },
    {
      "cell_type": "code",
      "source": [
        "\n",
        "# create a new column 'total_cost' in the dataframe.\n",
        "data['total_cost'] = data['Quantity'] * data['UnitPrice']\n",
        "data.head()"
      ],
      "metadata": {
        "id": "JFisnIlgMfmj"
      },
      "execution_count": null,
      "outputs": []
    },
    {
      "cell_type": "markdown",
      "source": [
        "What all missing value imputation techniques have you used and why did you use those techniques?\n",
        "\n",
        "The missing value imputation technique used was dropping rows with missing values in the 'CustomerID' column. This approach was chosen because 'CustomerID' is a key identifier and dropping rows with missing values had minimal impact on the size of the dataset. Other imputation techniques such as imputing mean, median, or mode values were not utilized in this case."
      ],
      "metadata": {
        "id": "Kv765unBMkbk"
      }
    },
    {
      "cell_type": "markdown",
      "source": [
        "### What all manipulations have you done and insights you found?"
      ],
      "metadata": {
        "id": "MSa1f5Uengrz"
      }
    },
    {
      "cell_type": "markdown",
      "source": [
        "First, I filtered out the cancelled orders from the dataset. Then, to handle missing values in the 'CustomerID' column, I employed a missing value imputation technique by removing the rows with missing values. Next, I eliminated any duplicate values in the dataset. Finally, I created a new column named 'total_cost' in the retail data by multiplying the values in the 'Quantity' column by the corresponding values in the 'UnitPrice' column.\n",
        "\n"
      ],
      "metadata": {
        "id": "LbyXE7I1olp8"
      }
    },
    {
      "cell_type": "markdown",
      "source": [
        "## ***4. Data Vizualization, Storytelling & Experimenting with charts : Understand the relationships between variables***"
      ],
      "metadata": {
        "id": "GF8Ens_Soomf"
      }
    },
    {
      "cell_type": "markdown",
      "source": [
        "**Chart - 1. Histogram**\n",
        "\n",
        "**Determine the top 10 countries with the most cancelled orders.**"
      ],
      "metadata": {
        "id": "0wOQAZs5pc--"
      }
    },
    {
      "cell_type": "code",
      "source": [
        "# Chart - 1 visualization code\n",
        "\n",
        "# Determine the number of cancelled orders for each country\n",
        "cancel_order_country = cancelled_orders.groupby('Country')['InvoiceNo'].count().reset_index()\n",
        "\n",
        "# Sort the country-wise count of cancelled orders in descending order and get the top 10 countries\n",
        "cancel_order_country_top10 = cancel_order_country.sort_values('InvoiceNo',ascending=False, ignore_index=True).head(10)\n",
        "\n",
        "# Set the size of the figure to be displayed\n",
        "plt.figure(figsize=(14,8))\n",
        "\n",
        "# Plot the bar chart using Seaborn\n",
        "sns.barplot(x='Country', y='InvoiceNo', data=cancel_order_country_top10)\n",
        "\n",
        "# Add annotations on the bar charts\n",
        "for i, v in enumerate(cancel_order_country_top10['InvoiceNo']):\n",
        "    plt.text(i, v+50, str(v), ha='center', fontweight='bold')\n",
        "\n",
        "# Add labels and title to the chart\n",
        "plt.xlabel('Country') # Label for the x-axis\n",
        "plt.ylabel('Number of Cancelled Orders') # Label for the y-axis\n",
        "plt.title('Number of Cancelled Orders in Top 10 Countries') # Title for the chart\n",
        "\n",
        "# Show the plot\n",
        "plt.show()"
      ],
      "metadata": {
        "id": "7v_ESjsspbW7"
      },
      "execution_count": null,
      "outputs": []
    },
    {
      "cell_type": "markdown",
      "source": [
        "##### 1. Why did you pick the specific chart?"
      ],
      "metadata": {
        "id": "K5QZ13OEpz2H"
      }
    },
    {
      "cell_type": "markdown",
      "source": [
        "A bar chart was selected as an effective visualization method for displaying the count of cancelled orders in the top 10 countries. It allows for easy comparison and provides a clear visual representation of the data."
      ],
      "metadata": {
        "id": "XESiWehPqBRc"
      }
    },
    {
      "cell_type": "markdown",
      "source": [
        "##### 2. What is/are the insight(s) found from the chart?"
      ],
      "metadata": {
        "id": "lQ7QKXXCp7Bj"
      }
    },
    {
      "cell_type": "markdown",
      "source": [
        "The chart offers valuable information about the countries experiencing the highest number of cancelled orders, enabling businesses to pinpoint potential concerns related to customer satisfaction or logistical challenges."
      ],
      "metadata": {
        "id": "C_j1G7yiqdRP"
      }
    },
    {
      "cell_type": "markdown",
      "source": [
        "##### 3. Will the gained insights help creating a positive business impact?\n",
        "Are there any insights that lead to negative growth? Justify with specific reason.\n"
      ],
      "metadata": {
        "id": "448CDAPjqfQr"
      }
    },
    {
      "cell_type": "markdown",
      "source": [
        "The information derived from the chart can assist businesses in enhancing customer satisfaction and optimizing their logistics processes, which may result in a reduction of cancelled orders and an increase in revenue."
      ],
      "metadata": {
        "id": "3cspy4FjqxJW"
      }
    },
    {
      "cell_type": "markdown",
      "source": [
        "#### Chart - 2  Histogram"
      ],
      "metadata": {
        "id": "KSlN3yHqYklG"
      }
    },
    {
      "cell_type": "markdown",
      "source": [
        "\n",
        "Let's analyze the variety of products purchased, as indicated in our dataframe's description, which states that 75% of customers buy a quantity of 10 or more."
      ],
      "metadata": {
        "id": "LRLYZAUOOJ-l"
      }
    },
    {
      "cell_type": "code",
      "source": [
        "# Chart - 2 visualization code\n",
        "# Group the retail_df dataframe by InvoiceNo and CustomerID\n",
        "transaction = data.groupby(['InvoiceNo','CustomerID'], as_index=False)\n",
        "\n",
        "# Count the number of products in each invoice\n",
        "transaction = transaction['InvoiceDate'].count()\n",
        "\n",
        "# Rename the column 'InvoiceDate' to 'Number of products'\n",
        "transaction = transaction.rename(columns = {'InvoiceDate':'Number of products'})\n",
        "\n",
        "# Print the result\n",
        "print(transaction.head())\n",
        "\n",
        "# Set the size of the plot\n",
        "plt.figure(figsize=(10, 8))\n",
        "\n",
        "# Plot the distribution of the number of products in each transaction\n",
        "sns.distplot(transaction['Number of products'], color='red')\n",
        "\n",
        "# Add a title to the plot\n",
        "plt.title(\"Distribution of the number of products in each transaction\", fontsize=16, fontweight='bold')\n",
        "\n",
        "# Add a label to the x-axis\n",
        "plt.xlabel(\"Number of products\", fontsize=14)\n",
        "\n",
        "# Add a label to the y-axis\n",
        "plt.ylabel(\"Density\", fontsize=14)\n",
        "\n",
        "# Show the plot\n",
        "plt.show()\n"
      ],
      "metadata": {
        "id": "R4YgtaqtYklH"
      },
      "execution_count": null,
      "outputs": []
    },
    {
      "cell_type": "markdown",
      "source": [
        "##### 1. Why did you pick the specific chart?"
      ],
      "metadata": {
        "id": "t6dVpIINYklI"
      }
    },
    {
      "cell_type": "markdown",
      "source": [
        "A histogram was selected as the visualization method to depict the distribution of the number of products in each transaction due to its ability to showcase the frequency of different values within a continuous variable."
      ],
      "metadata": {
        "id": "5aaW0BYyYklI"
      }
    },
    {
      "cell_type": "markdown",
      "source": [
        "##### 2. What is/are the insight(s) found from the chart?"
      ],
      "metadata": {
        "id": "ijmpgYnKYklI"
      }
    },
    {
      "cell_type": "markdown",
      "source": [
        "The distribution of the number of products in each transaction exhibits significant skewness. The majority of customers tend to purchase fewer than 25 items in a single transaction."
      ],
      "metadata": {
        "id": "PSx9atu2YklI"
      }
    },
    {
      "cell_type": "markdown",
      "source": [
        "##### 3. Will the gained insights help creating a positive business impact?\n",
        "Are there any insights that lead to negative growth? Justify with specific reason."
      ],
      "metadata": {
        "id": "-JiQyfWJYklI"
      }
    },
    {
      "cell_type": "markdown",
      "source": [
        "The insights derived from this histogram can provide valuable information for making decisions related to inventory management and product pricing. For instance, if the histogram reveals that the majority of transactions involve only one or two products, a business might consider emphasizing the promotion of those specific products or adjusting pricing strategies to incentivize customers to purchase a greater number of items per transaction."
      ],
      "metadata": {
        "id": "BcBbebzrYklV"
      }
    },
    {
      "cell_type": "markdown",
      "source": [
        "#### Chart - 3 Bar plot"
      ],
      "metadata": {
        "id": "EM7whBJCYoAo"
      }
    },
    {
      "cell_type": "markdown",
      "source": [
        "Total revenue generated from customers in each country."
      ],
      "metadata": {
        "id": "3EW-tDeeOsLZ"
      }
    },
    {
      "cell_type": "code",
      "source": [
        "# Chart - 3 visualization code\n",
        "# Sort the values by 'total_cost' in descending order\n",
        "data_sorted = data.sort_values('total_cost', ascending=False)\n",
        "\n",
        "# Create a figure and axis object\n",
        "fig, ax = plt.subplots()\n",
        "\n",
        "# Set the size of the figure\n",
        "fig.set_size_inches(13, 10)\n",
        "\n",
        "# Create a bar plot using seaborn\n",
        "ax = sns.barplot(x='Country', y='total_cost', data=data_sorted, estimator=max, ax=ax)\n",
        "\n",
        "# Rotate the x-axis labels by 47 degrees and align them to the right\n",
        "ax.set_xticklabels(ax.get_xticklabels(), rotation=47, ha=\"right\")\n",
        "\n",
        "# Show the plot\n",
        "plt.show()"
      ],
      "metadata": {
        "id": "t6GMdE67YoAp"
      },
      "execution_count": null,
      "outputs": []
    },
    {
      "cell_type": "markdown",
      "source": [
        "##### 1. Why did you pick the specific chart?"
      ],
      "metadata": {
        "id": "fge-S5ZAYoAp"
      }
    },
    {
      "cell_type": "markdown",
      "source": [
        "A bar graph serves as an effective tool for comparing the total sales cost across different countries. It facilitates a straightforward visual comparison of the sales magnitude in each country, enabling easy identification of variations in sales performance.\n",
        "\n"
      ],
      "metadata": {
        "id": "5dBItgRVYoAp"
      }
    },
    {
      "cell_type": "markdown",
      "source": [
        "##### 2. What is/are the insight(s) found from the chart?"
      ],
      "metadata": {
        "id": "85gYPyotYoAp"
      }
    },
    {
      "cell_type": "markdown",
      "source": [
        "By analyzing the data, we can draw the conclusion that the UK not only generates the highest sales revenues but also possesses the largest customer base. Further exploration of this finding can provide valuable insights into customer purchasing behavior, such as identifying which products are commonly purchased together. Moreover, it presents potential future opportunities for businesses in the UK market."
      ],
      "metadata": {
        "id": "4jstXR6OYoAp"
      }
    },
    {
      "cell_type": "markdown",
      "source": [
        "##### 3. Will the gained insights help creating a positive business impact?\n",
        "Are there any insights that lead to negative growth? Justify with specific reason."
      ],
      "metadata": {
        "id": "RoGjAbkUYoAp"
      }
    },
    {
      "cell_type": "markdown",
      "source": [
        "Are there any insights that lead to negative growth? Justify with specific reason.\n",
        "\n",
        "Certainly! The information obtained from this graph can assist the business in making well-informed decisions regarding resource allocation and potentially enhancing sales and profitability."
      ],
      "metadata": {
        "id": "zfJ8IqMcYoAp"
      }
    },
    {
      "cell_type": "markdown",
      "source": [
        "#### Chart - 4 Pie Chart\n",
        "**Proportion of orders from each Country in the data**\n"
      ],
      "metadata": {
        "id": "4Of9eVA-YrdM"
      }
    },
    {
      "cell_type": "code",
      "source": [
        "\n",
        "\n",
        "# Create a new DataFrame with the top countries\n",
        "top_count = pd.DataFrame(data['Country'].value_counts().sort_values(ascending = False).reset_index())\n",
        "\n",
        "# Calculate the percentage of orders for each country\n",
        "top_count['Country %'] = top_count['Country'] * 100 / data['Country'].count()\n",
        "\n",
        "# Rename the columns in the DataFrame\n",
        "top_count.rename(columns = {'index':'Country','Country':'Total Counts'}, inplace = True)\n",
        "\n",
        "# Display the top 10 rows of the DataFrame\n",
        "top_count.head(10)"
      ],
      "metadata": {
        "id": "irlUoxc8YrdO"
      },
      "execution_count": null,
      "outputs": []
    },
    {
      "cell_type": "code",
      "source": [
        "# Chart - 4 visualization code\n",
        "# Plot the pie chart using Plotly\n",
        "fig = px.pie(top_count, values='Country %', names='Country', title='Proportion of Orders by Country')\n",
        "\n",
        "# Customize the layout\n",
        "fig.update_traces(textposition='inside', textinfo='percent+label')\n",
        "\n",
        "# Display the plot\n",
        "fig.show()"
      ],
      "metadata": {
        "id": "w1G5W6NKPpmA"
      },
      "execution_count": null,
      "outputs": []
    },
    {
      "cell_type": "markdown",
      "source": [
        "##### 1. Why did you pick the specific chart?"
      ],
      "metadata": {
        "id": "iky9q4vBYrdO"
      }
    },
    {
      "cell_type": "markdown",
      "source": [
        "\n",
        "A pie chart was chosen to illustrate the percentage of orders across the top 10 countries because it enables a clear visual representation of the distribution of values among different countries."
      ],
      "metadata": {
        "id": "aJRCwT6DYrdO"
      }
    },
    {
      "cell_type": "markdown",
      "source": [
        "##### 2. What is/are the insight(s) found from the chart?"
      ],
      "metadata": {
        "id": "F6T5p64dYrdO"
      }
    },
    {
      "cell_type": "markdown",
      "source": [
        "The United Kingdom represents the largest customer segment, accounting for 88.92% of the total. Germany (2.30%), France (2.12%), Eire (1.84%), and Spain (0.63%) also constitute significant customer groups. The remaining customers are distributed among countries such as the Netherlands, Belgium, Switzerland, Portugal, and Australia."
      ],
      "metadata": {
        "id": "Xx8WAJvtYrdO"
      }
    },
    {
      "cell_type": "markdown",
      "source": [
        "##### 3. Will the gained insights help creating a positive business impact?\n",
        "Are there any insights that lead to negative growth? Justify with specific reason."
      ],
      "metadata": {
        "id": "y-Ehk30pYrdP"
      }
    },
    {
      "cell_type": "markdown",
      "source": [
        "Certainly! The insights obtained from this chart can assist the business in making informed decisions regarding the allocation of marketing efforts, which has the potential to drive higher sales and revenue."
      ],
      "metadata": {
        "id": "jLNxxz7MYrdP"
      }
    },
    {
      "cell_type": "markdown",
      "source": [
        "#### Chart - 5  Bar chart\n",
        "\n",
        "# **Top Customers**"
      ],
      "metadata": {
        "id": "bamQiAODYuh1"
      }
    },
    {
      "cell_type": "code",
      "source": [
        "# Chart - 5 visualization code\n",
        "# Creating a dataframe of top customers by number of transactions\n",
        "top_customers = pd.DataFrame(data['CustomerID'].value_counts().reset_index())\n",
        "top_customers.columns = ['CustomerID', 'count']\n",
        "top_customers = top_customers.sort_values(by='count', ascending=False).head(10)\n",
        "\n",
        "plt.figure(figsize=(10, 7))\n",
        "\n",
        "# Define a color palette with 10 unique colors\n",
        "colors = sns.color_palette('hls', 10)\n",
        "\n",
        "# Create the bar plot with the specified color palette\n",
        "sns.barplot(x='CustomerID', y='count', data=top_customers, order=top_customers['CustomerID'], palette=colors)\n",
        "\n",
        "# Add labels and a title\n",
        "plt.xlabel('Customer ID', fontsize=12)\n",
        "plt.ylabel('Frequency', fontsize=12)\n",
        "plt.title(\"Top 10 Customer's ID\", fontsize=16)\n",
        "\n",
        "# Show the plot\n",
        "plt.show()\n"
      ],
      "metadata": {
        "id": "TIJwrbroYuh3"
      },
      "execution_count": null,
      "outputs": []
    },
    {
      "cell_type": "markdown",
      "source": [
        "##### 1. Why did you pick the specific chart?"
      ],
      "metadata": {
        "id": "QHF8YVU7Yuh3"
      }
    },
    {
      "cell_type": "markdown",
      "source": [
        "A bar graph was selected as the visualization method because it provides a clear and straightforward representation for comparing the frequency of the top 10 customer IDs."
      ],
      "metadata": {
        "id": "dcxuIMRPYuh3"
      }
    },
    {
      "cell_type": "markdown",
      "source": [
        "##### 2. What is/are the insight(s) found from the chart?"
      ],
      "metadata": {
        "id": "GwzvFGzlYuh3"
      }
    },
    {
      "cell_type": "markdown",
      "source": [
        "The bar chart offers valuable insights into the purchasing behavior of customers, allowing for the identification of frequent buyers and potential areas of focus to enhance customer loyalty and retention."
      ],
      "metadata": {
        "id": "uyqkiB8YYuh3"
      }
    },
    {
      "cell_type": "markdown",
      "source": [
        "##### 3. Will the gained insights help creating a positive business impact?\n",
        "Are there any insights that lead to negative growth? Justify with specific reason."
      ],
      "metadata": {
        "id": "qYpmQ266Yuh3"
      }
    },
    {
      "cell_type": "markdown",
      "source": [
        "Certainly! The information derived from the chart can have a beneficial effect on business outcomes. It can guide decision-making processes aimed at customer retention and acquisition, as well as pinpointing opportunities for enhancing customer service and refining product offerings."
      ],
      "metadata": {
        "id": "_WtzZ_hCYuh4"
      }
    },
    {
      "cell_type": "markdown",
      "source": [
        "#### Chart - 6  Bar plot\n",
        "\n",
        "## **The distribution of customers over a span of twelve months.**"
      ],
      "metadata": {
        "id": "OH-pJp9IphqM"
      }
    },
    {
      "cell_type": "code",
      "source": [
        "# Chart - 6 visualization code\n",
        "# Create a figure with specified size\n",
        "plt.figure(figsize=(20,8))\n",
        "\n",
        "# Convert 'InvoiceDate' column to datetime\n",
        "data['InvoiceDate'] = pd.to_datetime(data['InvoiceDate'])\n",
        "\n",
        "# Group the dataframe by the month and year of the InvoiceDate column\n",
        "# Count the number of unique CustomerID values in each group\n",
        "monthly_distribution = data.groupby(data['InvoiceDate'].dt.strftime('%B %Y'))['CustomerID'].count()\n",
        "\n",
        "# set the colors\n",
        "colors = ['#1f77b4', '#ff7f0e', '#2ca02c', '#d62728', '#9467bd', '#8c564b', '#e377c2', '#7f7f7f', '#bcbd22', '#17becf', '#a55194', '#ff9896']\n",
        "\n",
        "# Plot the customer distribution as a bar chart\n",
        "monthly_distribution.plot(kind='bar', color=colors)\n",
        "\n",
        "# Set the title and labels for the x and y axes\n",
        "plt.title('Distribution of customers by month over period of 1 year', size=20, fontweight='bold')\n",
        "plt.xlabel('Month and Year', size=15)\n",
        "plt.ylabel('No. of Customers', size=15)\n",
        "\n",
        "# Show the plot\n",
        "plt.show()"
      ],
      "metadata": {
        "id": "kuRf4wtuphqN"
      },
      "execution_count": null,
      "outputs": []
    },
    {
      "cell_type": "markdown",
      "source": [
        "##### 1. Why did you pick the specific chart?"
      ],
      "metadata": {
        "id": "bbFf2-_FphqN"
      }
    },
    {
      "cell_type": "markdown",
      "source": [
        "A bar graph was selected to depict this data due to its effectiveness in visually presenting the distribution of customers over time. Each bar in the graph corresponds to a specific month and year, and the height of the bar represents the number of customers during that particular period."
      ],
      "metadata": {
        "id": "loh7H2nzphqN"
      }
    },
    {
      "cell_type": "markdown",
      "source": [
        "##### 2. What is/are the insight(s) found from the chart?"
      ],
      "metadata": {
        "id": "_ouA3fa0phqN"
      }
    },
    {
      "cell_type": "markdown",
      "source": [
        "The chart offers valuable insights into the fluctuation of customer numbers over time. By observing the variations in customer counts across different months, we can identify patterns and trends. This information proves beneficial in devising marketing campaigns, adjusting inventory levels, and effectively meeting customer demands."
      ],
      "metadata": {
        "id": "VECbqPI7phqN"
      }
    },
    {
      "cell_type": "markdown",
      "source": [
        "##### 3. Will the gained insights help creating a positive business impact?\n",
        "Are there any insights that lead to negative growth? Justify with specific reason."
      ],
      "metadata": {
        "id": "Seke61FWphqN"
      }
    },
    {
      "cell_type": "markdown",
      "source": [
        "Certainly! The information derived from this chart can have a valuable influence on business operations by providing insights for marketing campaign strategies and inventory management. By comprehending the fluctuations in the number of customers over time, businesses can make well-informed decisions, optimize resource allocation, and drive positive outcomes."
      ],
      "metadata": {
        "id": "DW4_bGpfphqN"
      }
    },
    {
      "cell_type": "markdown",
      "source": [
        "#### Chart - 7 Bar chart\n",
        "\n",
        "# **Top Selling products**"
      ],
      "metadata": {
        "id": "PIIx-8_IphqN"
      }
    },
    {
      "cell_type": "code",
      "source": [
        "# Chart - 7 visualization code\n",
        "# Group the data by product name and calculate the sum of the quantity sold for each product\n",
        "top_products = data.groupby('Description').sum()['Quantity']\n",
        "\n",
        "# Sort the data in descending order\n",
        "top_products = top_products.sort_values(ascending=False)\n",
        "\n",
        "# Select the top 10 items\n",
        "top_products_names = top_products.index[:10]\n",
        "\n",
        "# Create a new dataframe to store the top 10 selling products\n",
        "top10_products = pd.DataFrame({'Product': top_products_names, 'Quantity Sold': top_products.values[:10]})\n",
        "\n",
        "# Print the result\n",
        "print(top10_products)\n",
        "\n",
        "# Plot the bar chart\n",
        "plt.figure(figsize=(20, 8))\n",
        "plt.bar(top10_products['Product'], top10_products['Quantity Sold'], color=colors)\n",
        "\n",
        "# Set the title and axis labels\n",
        "plt.title('Top 10 Selling Products', size=20, fontweight='bold')\n",
        "plt.xlabel('Product', size=15)\n",
        "plt.ylabel('Quantity Sold', size=15)\n",
        "\n",
        "# Rotate the x-axis labels\n",
        "plt.xticks(rotation=90)\n",
        "\n",
        "# Display the chart\n",
        "plt.show()\n"
      ],
      "metadata": {
        "id": "lqAIGUfyphqO"
      },
      "execution_count": null,
      "outputs": []
    },
    {
      "cell_type": "markdown",
      "source": [
        "##### 1. Why did you pick the specific chart?"
      ],
      "metadata": {
        "id": "t27r6nlMphqO"
      }
    },
    {
      "cell_type": "markdown",
      "source": [
        "A bar chart is an effective visual representation for showcasing the quantity of each product sold due to its ability to facilitate straightforward comparisons among the various products. Additionally, it serves as an efficient means of emphasizing the top 10 selling products."
      ],
      "metadata": {
        "id": "iv6ro40sphqO"
      }
    },
    {
      "cell_type": "markdown",
      "source": [
        "##### 2. What is/are the insight(s) found from the chart?"
      ],
      "metadata": {
        "id": "r2jJGEOYphqO"
      }
    },
    {
      "cell_type": "markdown",
      "source": [
        "The presented chart displays the quantities of the top 10 selling products, offering valuable insights into the popularity of these items. It enables effective comparisons between the different products, showcasing the respective quantities sold for each."
      ],
      "metadata": {
        "id": "Po6ZPi4hphqO"
      }
    },
    {
      "cell_type": "markdown",
      "source": [
        "##### 3. Will the gained insights help creating a positive business impact?\n",
        "Are there any insights that lead to negative growth? Justify with specific reason."
      ],
      "metadata": {
        "id": "b0JNsNcRphqO"
      }
    },
    {
      "cell_type": "markdown",
      "source": [
        "The insights derived from this chart can enable businesses to make well-informed decisions regarding inventory management, marketing strategies, and overall business operations. By identifying the most popular products, businesses can concentrate their resources and efforts on these items, potentially resulting in increased sales and profitability."
      ],
      "metadata": {
        "id": "xvSq8iUTphqO"
      }
    },
    {
      "cell_type": "markdown",
      "source": [
        "#### Chart - 8 Bar plot\n",
        "\n",
        "**Products with the lowest sales.**"
      ],
      "metadata": {
        "id": "BZR9WyysphqO"
      }
    },
    {
      "cell_type": "code",
      "source": [
        "# Chart - 8 visualization code\n",
        "# Get the top 10 least selling products\n",
        "lowest_sales = data.groupby('Description').sum().sort_values('Quantity', ascending=True).head(10)\n",
        "\n",
        "# Top 10 Least Selling Products\n",
        "print(lowest_sales)\n",
        "\n",
        "# Plot the top 10 least selling products as a bar chart\n",
        "lowest_sales['Quantity'].plot(kind='bar', figsize=(10, 4), color='blue')\n",
        "\n",
        "# Set the title, x-label, and y-label for the chart\n",
        "plt.title('Top 10 Least Selling Products', size=20, fontweight='bold')\n",
        "plt.xlabel('Product Description', size=15)\n",
        "plt.ylabel('Quantity Sold', size=15)\n",
        "plt.xticks(rotation=90)\n",
        "\n",
        "# Show the chart\n",
        "plt.show()\n",
        ""
      ],
      "metadata": {
        "id": "TdPTWpAVphqO"
      },
      "execution_count": null,
      "outputs": []
    },
    {
      "cell_type": "markdown",
      "source": [
        "##### 1. Why did you pick the specific chart?"
      ],
      "metadata": {
        "id": "jj7wYXLtphqO"
      }
    },
    {
      "cell_type": "markdown",
      "source": [
        "A bar chart is an appropriate selection for illustrating the top 10 least selling products as it offers a clear and concise visual comparison of the products based on their sales volume. Moreover, it facilitates easy identification of the products with the lowest sales figures.\n",
        "\n"
      ],
      "metadata": {
        "id": "Ob8u6rCTphqO"
      }
    },
    {
      "cell_type": "markdown",
      "source": [
        "##### 2. What is/are the insight(s) found from the chart?"
      ],
      "metadata": {
        "id": "eZrbJ2SmphqO"
      }
    },
    {
      "cell_type": "markdown",
      "source": [
        "The chart offers valuable insights into the products with the lowest sales volume. This information can be instrumental for businesses in identifying which products might require discounts or promotional efforts to stimulate sales and enhance their performance."
      ],
      "metadata": {
        "id": "mZtgC_hjphqO"
      }
    },
    {
      "cell_type": "markdown",
      "source": [
        "##### 3. Will the gained insights help creating a positive business impact?\n",
        "Are there any insights that lead to negative growth? Justify with specific reason."
      ],
      "metadata": {
        "id": "rFu4xreNphqO"
      }
    },
    {
      "cell_type": "markdown",
      "source": [
        "The insights obtained from this chart have the potential to positively impact businesses by enabling them to identify products with poor sales performance and take necessary measures to enhance their sales volume. For instance, businesses can consider implementing strategies such as offering discounts or promotions on the least selling products. Additionally, they may opt to discontinue products that consistently demonstrate low sales volume in order to prioritize more profitable products.\n",
        "\n"
      ],
      "metadata": {
        "id": "ey_0qi68phqO"
      }
    },
    {
      "cell_type": "markdown",
      "source": [
        "#### Chart - 9\n",
        "\n",
        "**Let's analyze the distribution of quantity **"
      ],
      "metadata": {
        "id": "YJ55k-q6phqO"
      }
    },
    {
      "cell_type": "code",
      "source": [
        "# Chart - 9 visualization code\n",
        "# Set the plot title\n",
        "plt.title('Distribution of Quantity', size=20, fontweight='bold')\n",
        "\n",
        "# Plot the distribution of Quantity data\n",
        "sns.distplot(data['Quantity'], color='blue')\n",
        "\n",
        "# Display the plot\n",
        "plt.show()"
      ],
      "metadata": {
        "id": "B2aS4O1ophqO"
      },
      "execution_count": null,
      "outputs": []
    },
    {
      "cell_type": "markdown",
      "source": [
        "The distribution of quantity exhibits a strong positive skewness, which can be rectified by applying a logarithmic transformation to the data.\n",
        "\n"
      ],
      "metadata": {
        "id": "uXjLjRofSTUf"
      }
    },
    {
      "cell_type": "code",
      "source": [
        "\n",
        "# plotting log distribution of Quantity\n",
        "plt.figure(figsize=(8,5))\n",
        "plt.title('Log distribution of Quantity')\n",
        "sns.distplot(np.log(data['Quantity']),color=\"purple\")"
      ],
      "metadata": {
        "id": "o3Y8JXvtSlgF"
      },
      "execution_count": null,
      "outputs": []
    },
    {
      "cell_type": "markdown",
      "source": [
        "##### 1. Why did you pick the specific chart?\n",
        "\n",
        "To enhance the visualization of the heavily right-skewed data distribution, a plot is generated using the logarithm of the Quantity.\n",
        "\n",
        "\n",
        "\n"
      ],
      "metadata": {
        "id": "gCFgpxoyphqP"
      }
    },
    {
      "cell_type": "markdown",
      "source": [
        "##### 2. What is/are the insight(s) found from the chart?"
      ],
      "metadata": {
        "id": "OVtJsKN_phqQ"
      }
    },
    {
      "cell_type": "markdown",
      "source": [
        "The Quantity chart's log distribution aids in determining the span of values where the majority of observations lie. It reveals that the predominant range for Quantity values is from 0 to 5, but there is a notable extension of values reaching as high as 7.\n",
        "\n"
      ],
      "metadata": {
        "id": "ngGi97qjphqQ"
      }
    },
    {
      "cell_type": "markdown",
      "source": [
        "##### 3. Will the gained insights help creating a positive business impact?\n",
        "Are there any insights that lead to negative growth? Justify with specific reason."
      ],
      "metadata": {
        "id": "lssrdh5qphqQ"
      }
    },
    {
      "cell_type": "markdown",
      "source": [
        "The information obtained from this chart could assist the business in making decisions regarding inventory management and supply chain logistics. For instance, the business might consider prioritizing the stocking of products that demonstrate a higher average quantity sold. Alternatively, they may choose to reassess their pricing strategy for products that have lower sales volumes.\n",
        "\n"
      ],
      "metadata": {
        "id": "tBpY5ekJphqQ"
      }
    },
    {
      "cell_type": "markdown",
      "source": [
        "#### Chart - 10\n",
        "\n",
        "**Let's analyze theDistribution of total_cost**\n"
      ],
      "metadata": {
        "id": "U2RJ9gkRphqQ"
      }
    },
    {
      "cell_type": "code",
      "source": [
        "# Chart - 10 visualization code\n",
        "# Set the title for the plot\n",
        "plt.title('Distribution of Total Cost')\n",
        "\n",
        "# Plot the distribution of the total_cost column using the distplot method from seaborn with color blue\n",
        "sns.distplot(data['total_cost'], color=\"blue\")\n",
        "\n",
        "# Show the plot\n",
        "plt.show()\n"
      ],
      "metadata": {
        "id": "GM7a4YP4phqQ"
      },
      "execution_count": null,
      "outputs": []
    },
    {
      "cell_type": "markdown",
      "source": [
        "The distribution plot reveals a right-skewed tail in the total cost variable, suggesting the presence of a few expensive transactions within the dataset.\n",
        "\n"
      ],
      "metadata": {
        "id": "U14odeiuTSgV"
      }
    },
    {
      "cell_type": "markdown",
      "source": [
        "# **Distribution of Total Cost after log transformation**\n"
      ],
      "metadata": {
        "id": "Vfl5Gj73TWgn"
      }
    },
    {
      "cell_type": "code",
      "source": [
        "\n",
        "# Set the title of the plot\n",
        "plt.title('Distribution of Total Cost')\n",
        "\n",
        "# Plot the distribution of the log transformed total_cost column using a distplot from the seaborn library\n",
        "sns.distplot(np.log1p(data['total_cost']), color=\"green\")\n",
        "\n",
        "# Show the plot\n",
        "plt.show()"
      ],
      "metadata": {
        "id": "6rMgbHiOTdab"
      },
      "execution_count": null,
      "outputs": []
    },
    {
      "cell_type": "markdown",
      "source": [
        "##### 1. Why did you pick the specific chart?"
      ],
      "metadata": {
        "id": "1M8mcRywphqQ"
      }
    },
    {
      "cell_type": "markdown",
      "source": [
        "\n",
        "I selected this particular chart because it effectively illustrates the distribution of the overall expenses for the items in the dataset. Additionally, it enables us to observe the dispersion of the data across various values and provides insight into the average total cost.\n",
        "\n"
      ],
      "metadata": {
        "id": "8agQvks0phqQ"
      }
    },
    {
      "cell_type": "markdown",
      "source": [
        "##### 2. What is/are the insight(s) found from the chart?"
      ],
      "metadata": {
        "id": "tgIPom80phqQ"
      }
    },
    {
      "cell_type": "markdown",
      "source": [
        "The observation suggests that low-cost products are more commonly chosen by customers compared to expensive ones. When the total cost is log-transformed, we noticed that the distribution becomes normal. This transformation occurs because the unit price and quantity of the product have an inverse relationship, and both variables were highly positively skewed prior to the transformation.\n",
        "\n"
      ],
      "metadata": {
        "id": "Qp13pnNzphqQ"
      }
    },
    {
      "cell_type": "markdown",
      "source": [
        "##### 3. Will the gained insights help creating a positive business impact?\n",
        "Are there any insights that lead to negative growth? Justify with specific reason."
      ],
      "metadata": {
        "id": "JMzcOPDDphqR"
      }
    },
    {
      "cell_type": "markdown",
      "source": [
        "By utilizing these insights, businesses can enhance their pricing strategy to align more effectively with customer preferences, thus generating a favorable impact on their business. It's important to note that there are no insights that contribute to negative growth.\n",
        "\n"
      ],
      "metadata": {
        "id": "R4Ka1PC2phqR"
      }
    },
    {
      "cell_type": "markdown",
      "source": [
        "# **Feature Engineering**\n",
        "\n",
        "Generate new attributes, namely \"Day\" and \"Month,\" based on the data provided in the InvoiceDate column.\n",
        "\n",
        "\n",
        "\n"
      ],
      "metadata": {
        "id": "wlEgDfYpT18G"
      }
    },
    {
      "cell_type": "code",
      "source": [
        "# Create a new column named 'Day' in the retail_df_copy dataframe\n",
        "data['Day'] = data['InvoiceDate'].dt.day_name()\n",
        "\n",
        "# Create a new column named 'Month' in the retail_df_copy dataframe\n",
        "data['Month'] = data['InvoiceDate'].dt.month_name()"
      ],
      "metadata": {
        "id": "0BK0NWHnUCuL"
      },
      "execution_count": null,
      "outputs": []
    },
    {
      "cell_type": "markdown",
      "source": [
        "# **Create new features from the Invoice Date such as Hours, Year, Month Number, and Day Number.**\n"
      ],
      "metadata": {
        "id": "O_CdiVyPUHBf"
      }
    },
    {
      "cell_type": "code",
      "source": [
        "# Create a new feature 'year' that contains the year of the InvoiceDate\n",
        "data[\"year\"] = data[\"InvoiceDate\"].apply(lambda x: x.year)\n",
        "\n",
        "# Create a new feature 'month_num' that contains the number of the month of the InvoiceDate\n",
        "data[\"month_num\"] = data[\"InvoiceDate\"].apply(lambda x: x.month)\n",
        "\n",
        "# Create a new feature 'day_num' that contains the number of the day of the month of the InvoiceDate\n",
        "data[\"day_num\"] = data[\"InvoiceDate\"].apply(lambda x: x.day)\n",
        "\n",
        "# Create a new feature 'hour' that contains the hour of the day of the InvoiceDate\n",
        "data[\"hour\"] = data[\"InvoiceDate\"].apply(lambda x: x.hour)\n",
        "\n",
        "# Create a new feature 'minute' that contains the minute of the hour of the InvoiceDate\n",
        "data[\"minute\"] = data[\"InvoiceDate\"].apply(lambda x: x.minute)\n",
        "\n",
        "data.head()"
      ],
      "metadata": {
        "id": "dxo-OGpwUKUo"
      },
      "execution_count": null,
      "outputs": []
    },
    {
      "cell_type": "markdown",
      "source": [
        "Eliminate rows that have a value of zero or less in the 'UnitPrice' column.\n"
      ],
      "metadata": {
        "id": "RCIwLp4gUYQf"
      }
    },
    {
      "cell_type": "code",
      "source": [
        "# Remove rows where the value in the 'UnitPrice' column is less than or equal to 0\n",
        "data = data[data['UnitPrice'] > 0]"
      ],
      "metadata": {
        "id": "a8gXzN-hUeLF"
      },
      "execution_count": null,
      "outputs": []
    },
    {
      "cell_type": "markdown",
      "source": [
        "#### Chart - 11"
      ],
      "metadata": {
        "id": "x-EpHcCOp1ci"
      }
    },
    {
      "cell_type": "markdown",
      "source": [
        "**The code provided categorizes the hours of a day into three distinct time frames: \"Morning,\" \"Afternoon,\" and \"Evening.\" It then appends a new column called \"Time_type\" to the dataframe.**\n"
      ],
      "metadata": {
        "id": "bZWB7NYrU4uA"
      }
    },
    {
      "cell_type": "code",
      "source": [
        "# Chart - 11 visualization code\n",
        "# Defining a function to categorize the hours into three time types - Morning, Afternoon and Evening\n",
        "def categorize_hours(hour):\n",
        "    if hour in [6, 7, 8, 9, 10, 11]:\n",
        "        return 'Morning'\n",
        "    elif hour in [12, 13, 14, 15, 16, 17]:\n",
        "        return 'Afternoon'\n",
        "    else:\n",
        "        return 'Evening'\n",
        "\n",
        "# Adding a new column 'Time_type' to the dataframe by applying the categorize_hours function on the 'hour' column\n",
        "data['Time_type'] = data['hour'].apply(categorize_hours)\n",
        "\n",
        "# Plotting a countplot to visualize the distribution of transactions across different time types\n",
        "plt.figure(figsize=(10, 6))\n",
        "plt.title('Distribution of Transactions Across Time Types')\n",
        "sns.countplot(x='Time_type', data=data, palette=\"deep\")\n",
        "\n",
        "# Showing the plot\n",
        "plt.show()"
      ],
      "metadata": {
        "id": "mAQTIvtqp1cj"
      },
      "execution_count": null,
      "outputs": []
    },
    {
      "cell_type": "markdown",
      "source": [
        "##### 1. Why did you pick the specific chart?"
      ],
      "metadata": {
        "id": "X_VqEhTip1ck"
      }
    },
    {
      "cell_type": "markdown",
      "source": [
        "I selected this chart to visually represent the distribution of transactions across various time types.\n",
        "\n"
      ],
      "metadata": {
        "id": "-vsMzt_np1ck"
      }
    },
    {
      "cell_type": "markdown",
      "source": [
        "##### 2. What is/are the insight(s) found from the chart?"
      ],
      "metadata": {
        "id": "8zGJKyg5p1ck"
      }
    },
    {
      "cell_type": "markdown",
      "source": [
        "The observation reveals that the afternoon sees the highest number of transactions, followed by the morning, suggesting that customers show a preference for shopping during the afternoon.\n",
        "\n"
      ],
      "metadata": {
        "id": "ZYdMsrqVp1ck"
      }
    },
    {
      "cell_type": "markdown",
      "source": [
        "##### 3. Will the gained insights help creating a positive business impact?\n",
        "Are there any insights that lead to negative growth? Justify with specific reason."
      ],
      "metadata": {
        "id": "PVzmfK_Ep1ck"
      }
    },
    {
      "cell_type": "markdown",
      "source": [
        "By leveraging these insights, businesses can generate a positive impact on their operations by customizing their sales and promotions to effectively target customers at specific times. This tailored approach allows businesses to optimize their marketing strategies and enhance customer engagement.\n",
        "\n"
      ],
      "metadata": {
        "id": "druuKYZpp1ck"
      }
    },
    {
      "cell_type": "markdown",
      "source": [
        "#### Chart - 12\n",
        "\n",
        "**Shopping during various hours of the day.**\n",
        "\n"
      ],
      "metadata": {
        "id": "n3dbpmDWp1ck"
      }
    },
    {
      "cell_type": "code",
      "source": [
        "# Chart - 12 visualization code\n",
        "# Count the number of transactions for each hour of the day\n",
        "hours = data['hour'].value_counts().reset_index()\n",
        "\n",
        "# Rename the 'index' column to 'Hour_Name'\n",
        "hours.rename(columns={'index': 'Hour_Name'}, inplace=True)\n",
        "\n",
        "# Rename the 'hour' column to 'Count'\n",
        "hours.rename(columns={'hour': 'Count'}, inplace=True)\n",
        "\n",
        "# Create a barplot of the count of transactions versus the hour of the day\n",
        "plt.figure(figsize=(10,8))\n",
        "plt.title('Transaction Count by Hour of the Day (in %)', fontsize=18)\n",
        "sns.barplot(x='Hour_Name', y='Count', data=hours, palette='Oranges')\n",
        "\n",
        "# Set x and y labels\n",
        "plt.xlabel('Hour of the Day', fontsize=15)\n",
        "plt.ylabel('Transaction Count', fontsize=15)\n",
        "\n",
        "# Show the plot\n",
        "plt.show()"
      ],
      "metadata": {
        "id": "bwevp1tKp1ck"
      },
      "execution_count": null,
      "outputs": []
    },
    {
      "cell_type": "markdown",
      "source": [
        "##### 1. Why did you pick the specific chart?"
      ],
      "metadata": {
        "id": "ylSl6qgtp1ck"
      }
    },
    {
      "cell_type": "markdown",
      "source": [
        "I selected a bar chart to visually represent how transactions are distributed throughout the various hours of the day.\n",
        "\n"
      ],
      "metadata": {
        "id": "m2xqNkiQp1ck"
      }
    },
    {
      "cell_type": "markdown",
      "source": [
        "##### 2. What is/are the insight(s) found from the chart?"
      ],
      "metadata": {
        "id": "ZWILFDl5p1ck"
      }
    },
    {
      "cell_type": "markdown",
      "source": [
        "The observation reveals that a significant number of transactions occur between 12PM and 2PM, suggesting a customer preference for shopping during the afternoon.\n",
        "\n"
      ],
      "metadata": {
        "id": "x-lUsV2mp1ck"
      }
    },
    {
      "cell_type": "markdown",
      "source": [
        "##### 3. Will the gained insights help creating a positive business impact?\n",
        "Are there any insights that lead to negative growth? Justify with specific reason."
      ],
      "metadata": {
        "id": "M7G43BXep1ck"
      }
    },
    {
      "cell_type": "markdown",
      "source": [
        "These insights can have a positive influence on businesses by enabling them to customize their sales and promotions to effectively target customers during specific time periods, resulting in a favorable impact on their business.\n",
        "\n"
      ],
      "metadata": {
        "id": "5wwDJXsLp1cl"
      }
    },
    {
      "cell_type": "markdown",
      "source": [
        "# Chart - 13\n",
        "\n",
        " **Purchasing on different Days of the week**.\n"
      ],
      "metadata": {
        "id": "Ag9LCva-p1cl"
      }
    },
    {
      "cell_type": "code",
      "source": [
        "# Chart - 13 visualization code\n",
        "# Create a new DataFrame with the count of each unique day of the week\n",
        "days = data['Day'].value_counts().reset_index()\n",
        "\n",
        "# Rename the 'index' column to 'Day_Name'\n",
        "days.rename(columns={'index': 'Day_Name'}, inplace=True)\n",
        "\n",
        "# Rename the 'Day' column to 'Count'\n",
        "days.rename(columns={'Day': 'Count'}, inplace=True)\n",
        "# Plotting the distribution of purchases across different days of the week\n",
        "plt.figure(figsize=(8,5))\n",
        "sns.barplot(x='Day_Name', y='Count', data=days, palette=\"muted\")\n",
        "\n",
        "# Adding percentage value on top of each bar\n",
        "for i in range(days.shape[0]):\n",
        "    value = days['Count'][i]\n",
        "    percent = '{:.1f}%'.format(value/days['Count'].sum() * 100)\n",
        "    plt.text(i, value, percent, ha='center', va='bottom', size=12)\n",
        "\n",
        "# Adding title and labels\n",
        "plt.title('Distribution of purchases across different days of the week', size=15, fontweight='bold')\n",
        "plt.xlabel('Day of the week', size=12)\n",
        "plt.ylabel('Number of purchases', size=12)\n",
        "\n",
        "# Show the plot\n",
        "plt.show()"
      ],
      "metadata": {
        "id": "EUfxeq9-p1cl"
      },
      "execution_count": null,
      "outputs": []
    },
    {
      "cell_type": "markdown",
      "source": [
        "##### 1. Why did you pick the specific chart?"
      ],
      "metadata": {
        "id": "E6MkPsBcp1cl"
      }
    },
    {
      "cell_type": "markdown",
      "source": [
        "I chose a bar chart to display how purchases are distributed across different days of the week.\n",
        "\n"
      ],
      "metadata": {
        "id": "V22bRsFWp1cl"
      }
    },
    {
      "cell_type": "markdown",
      "source": [
        "##### 2. What is/are the insight(s) found from the chart?"
      ],
      "metadata": {
        "id": "2cELzS2fp1cl"
      }
    },
    {
      "cell_type": "markdown",
      "source": [
        "The observation indicates that a significant number of purchases occur on Thursdays and Wednesdays, suggesting that customers tend to prefer shopping on weekdays.\n",
        "\n"
      ],
      "metadata": {
        "id": "ozQPc2_Ip1cl"
      }
    },
    {
      "cell_type": "markdown",
      "source": [
        "##### 3. Will the gained insights help creating a positive business impact?\n",
        "Are there any insights that lead to negative growth? Justify with specific reason."
      ],
      "metadata": {
        "id": "3MPXvC8up1cl"
      }
    },
    {
      "cell_type": "markdown",
      "source": [
        "By utilizing these insights, businesses can customize their sales and promotions to effectively target customers on specific days, leading to a positive impact on their business. Importantly, there are no insights that indicate negative growth.\n",
        "\n"
      ],
      "metadata": {
        "id": "GL8l1tdLp1cl"
      }
    },
    {
      "cell_type": "markdown",
      "source": [
        "#### Chart - 14 - Correlation Heatmap"
      ],
      "metadata": {
        "id": "NC_X3p0fY2L0"
      }
    },
    {
      "cell_type": "code",
      "source": [
        "# Correlation Heatmap visualization code\n",
        "\n",
        "correlation_matrix = data.corr()\n",
        "\n",
        "plt.figure(figsize=(10, 8))\n",
        "sns.heatmap(correlation_matrix, annot=True, cmap=\"coolwarm\", linewidths=0.5)\n",
        "\n",
        "plt.title('Correlation Heatmap')\n",
        "plt.xticks(rotation=45)\n",
        "plt.yticks(rotation=0)\n",
        "\n",
        "plt.show()"
      ],
      "metadata": {
        "id": "xyC9zolEZNRQ"
      },
      "execution_count": null,
      "outputs": []
    },
    {
      "cell_type": "markdown",
      "source": [
        "##### 1. Why did you pick the specific chart?"
      ],
      "metadata": {
        "id": "UV0SzAkaZNRQ"
      }
    },
    {
      "cell_type": "markdown",
      "source": [
        "we can find out the co relation between each other"
      ],
      "metadata": {
        "id": "DVPuT8LYZNRQ"
      }
    },
    {
      "cell_type": "markdown",
      "source": [
        "# **RFM Analysis**\n",
        "\n",
        "RFM( Recency, Frequency, and Monetary Value) analysis is a marketing technique that segments customers based on their recency (time since last purchase), frequency (number of purchases), and monetary value (amount spent) of their transactions. This helps businesses understand their customers better and make data-driven decisions about marketing and customer engagement.\n",
        "\n",
        "\n",
        "# **Creating Recency Attributes**"
      ],
      "metadata": {
        "id": "6z9Ben4FYdAq"
      }
    },
    {
      "cell_type": "code",
      "source": [
        "# Get the maximum value of the 'InvoiceDate' column\n",
        "last_date = data['InvoiceDate'].max()\n",
        "\n",
        "# Output the result\n",
        "print(last_date)\n",
        "\n",
        "# Create a date object representing December 9th, 2011\n",
        "now = dt.date(2011, 12, 9)\n",
        "\n",
        "# Print the date object\n",
        "print(now)\n"
      ],
      "metadata": {
        "id": "cQdHB3lgYqkW"
      },
      "execution_count": null,
      "outputs": []
    },
    {
      "cell_type": "code",
      "source": [
        "# Create a new column called 'date' in the 'retail_df_copy' DataFrame\n",
        "data['date'] = data['InvoiceDate'].dt.date\n",
        "\n",
        "# Extract the date component of the 'InvoiceDate' column in the DataFrame\n",
        "# The '.dt' accessor is used to access the datetime attributes of the 'InvoiceDate' column\n",
        "# The '.date' attribute returns the date component of the datetime value\n",
        "\n",
        "# Display the first 5 rows of the DataFrame\n",
        "data.head()"
      ],
      "metadata": {
        "id": "zeCvAPS9YtI2"
      },
      "execution_count": null,
      "outputs": []
    },
    {
      "cell_type": "code",
      "source": [
        "# Group the data by customer ID and find the most recent purchase date for each customer\n",
        "recency = data.groupby(by='CustomerID', as_index=False)['date'].max()\n",
        "\n",
        "# Rename the columns in the resulting dataframe to reflect the customer ID and most recent purchase date\n",
        "recency.columns = ['CustomerID','LastPurchaseDate']\n",
        "\n",
        "# Display the first few rows of the dataframe to inspect the results\n",
        "recency.head()\n",
        "\n",
        "# Calculate the recency of each customer's last purchase\n",
        "recency['Recency'] = recency['LastPurchaseDate'].apply(lambda x: (now - x).days)\n",
        "\n",
        "# Drop the 'LastPurchaseDate' column from the dataframe\n",
        "recency.drop('LastPurchaseDate',axis=1,inplace=True)\n",
        "recency.head()\n",
        ""
      ],
      "metadata": {
        "id": "FBdgWWrwY2Vb"
      },
      "execution_count": null,
      "outputs": []
    },
    {
      "cell_type": "markdown",
      "source": [
        "# **Creating Frequency Attributes**\n"
      ],
      "metadata": {
        "id": "nnrNwMmtZIPm"
      }
    },
    {
      "cell_type": "code",
      "source": [
        "# Group the data by customer ID and count the number of invoices for each customer\n",
        "frequency = data.groupby(by=['CustomerID'], as_index=False)['InvoiceNo'].count()\n",
        "\n",
        "# Rename the columns in the resulting dataframe to reflect the customer ID and purchase frequency\n",
        "frequency.columns = ['CustomerID','Frequency']\n",
        "\n",
        "# Display the first 5 rows of the dataframe to inspect the results\n",
        "frequency.head()"
      ],
      "metadata": {
        "id": "AqEh3abNZXfA"
      },
      "execution_count": null,
      "outputs": []
    },
    {
      "cell_type": "markdown",
      "source": [
        "# **Creating Monetary Attributes**\n"
      ],
      "metadata": {
        "id": "aTTEuVJvZbtK"
      }
    },
    {
      "cell_type": "code",
      "source": [
        "# Group the data by customer ID and sum the total amount spent by each customer\n",
        "monetary = data.groupby(by='CustomerID', as_index=False)['total_cost'].sum()\n",
        "\n",
        "# Rename the columns in the resulting dataframe to reflect the customer ID and total amount spent\n",
        "monetary.columns = ['CustomerID','MonetaryValue']\n",
        "\n",
        "# Display the first few rows of the dataframe to inspect the results\n",
        "monetary.head()"
      ],
      "metadata": {
        "id": "WH8aZyakZZdF"
      },
      "execution_count": null,
      "outputs": []
    },
    {
      "cell_type": "markdown",
      "source": [
        "**The RFM dataframe amalgamates data on recency, frequency, and monetary value for each customer, offering a comprehensive depiction of their behavior and spending patterns**.\n"
      ],
      "metadata": {
        "id": "vBublGm7Zwrf"
      }
    },
    {
      "cell_type": "code",
      "source": [
        "# Merge the recency and frequency dataframes on the customer ID column\n",
        "rec_fre = recency.merge(frequency, on='CustomerID')\n",
        "\n",
        "# Merge the monetary value dataframe on the customer ID column\n",
        "rfm_dataframe = rec_fre.merge(monetary, on='CustomerID')\n",
        "\n",
        "# Display the first few rows of the resulting dataframe to inspect the results\n",
        "rfm_dataframe.head()"
      ],
      "metadata": {
        "id": "1_i_cfMIZuTJ"
      },
      "execution_count": null,
      "outputs": []
    },
    {
      "cell_type": "code",
      "source": [
        "# Calculate quantiles for the RFM dataframe\n",
        "quantiles = rfm_dataframe[['Recency', 'Frequency', 'MonetaryValue']].quantile(q=[0.25,0.5,0.75])\n",
        "\n",
        "# Print the quantile values for inspection\n",
        "print(quantiles)"
      ],
      "metadata": {
        "id": "0hVoQrw0Z4eo"
      },
      "execution_count": null,
      "outputs": []
    },
    {
      "cell_type": "markdown",
      "source": [
        "**Generating an RFM table and computing the RFM Score**\n"
      ],
      "metadata": {
        "id": "agIyGIssZ7uW"
      }
    },
    {
      "cell_type": "code",
      "source": [
        "# Assigning quantile labels to Recency, Frequency and MonetaryValue\n",
        "quantile_labels = ['1_quartile', '2_quartile', '3_quartile', '4_quartile']\n",
        "\n",
        "# Creating RecencyScore column by dividing Recency into quartiles and assigning respective quantile labels\n",
        "rfm_dataframe['RecencyScore'] = pd.qcut(rfm_dataframe['Recency'], q=[0, 0.25, 0.5, 0.75, 1], labels=list(range(4, 0, -1)))\n",
        "\n",
        "# Creating FrequencyScore column by dividing Frequency into quartiles and assigning respective quantile labels\n",
        "rfm_dataframe['FrequencyScore'] = pd.qcut(rfm_dataframe['Frequency'], q=[0, 0.25, 0.5, 0.75, 1], labels=list(range(1, 5)))\n",
        "\n",
        "# Creating MonetaryScore column by dividing MonetaryValue into quartiles and assigning respective quantile labels\n",
        "rfm_dataframe['MonetaryScore'] = pd.qcut(rfm_dataframe['MonetaryValue'], q=[0, 0.25, 0.5, 0.75, 1], labels=list(range(1, 5)))\n",
        "\n",
        "# Concatenate the RecencyScore, FrequencyScore, and MonetaryScore columns into one RFMScore column\n",
        "rfm_dataframe['RFMScore'] = rfm_dataframe['RecencyScore'].astype(str) + rfm_dataframe['FrequencyScore'].astype(str) + rfm_dataframe['MonetaryScore'].astype(str)\n",
        "\n",
        "# Sort the dataframe by MonetaryValue in descending order and reset the index\n",
        "rfm_dataframe2 = rfm_dataframe[rfm_dataframe['RFMScore'] == '444'].sort_values('MonetaryValue', ascending=False)\n",
        "rfm_dataframe2.head()"
      ],
      "metadata": {
        "id": "6fh_i5_jaBwr"
      },
      "execution_count": null,
      "outputs": []
    },
    {
      "cell_type": "code",
      "source": [
        "# Categorising customer or making customer segmentation based on RFM Score\n",
        "print(\"Best Customers: \",len(rfm_dataframe[rfm_dataframe['RFMScore']=='444']))\n",
        "print('Loyal Customers: ',len(rfm_dataframe[rfm_dataframe['FrequencyScore']==4]))\n",
        "print(\"Big Spenders: \",len(rfm_dataframe[rfm_dataframe['MonetaryScore']==4]))\n",
        "print('Almost Lost: ', len(rfm_dataframe[rfm_dataframe['RFMScore']=='244']))\n",
        "print('Lost Customers: ',len(rfm_dataframe[rfm_dataframe['RFMScore']=='144']))\n",
        "print('Lost Cheap Customers: ',len(rfm_dataframe[rfm_dataframe['RFMScore']=='111']))\n",
        ""
      ],
      "metadata": {
        "id": "B-vmIWOfa2Tm"
      },
      "execution_count": null,
      "outputs": []
    },
    {
      "cell_type": "markdown",
      "source": [
        "By leveraging the segmentation derived from our RFM scores, we can now optimize our marketing approaches for each customer segment with precision. Take our \"Best Customers\" or \"Champions,\" for instance; we can express appreciation for their loyalty through rewards and even involve them as early adopters in our \"Refer a Friend\" initiative.\n",
        "\n",
        "As for customers categorized as \"At Risk,\" we can proactively reach out to them through personalized emails, urging them to make a purchase. This personalized approach aims to retain their loyalty and foster ongoing engagement with our brand."
      ],
      "metadata": {
        "id": "zpKSmkGua5cv"
      }
    },
    {
      "cell_type": "code",
      "source": [
        "# Dropping the RFMScore and its components columns from the dataframe\n",
        "rfm_data = rfm_dataframe.drop(['FrequencyScore','RecencyScore','MonetaryScore','RFMScore'], axis=1)\n",
        "\n",
        "# Setting the customer id as index of the dataframe\n",
        "rfm_data.set_index(\"CustomerID\", inplace=True)\n",
        "\n",
        "# Printing the first 5 rows of the updated dataframe\n",
        "rfm_data.head()"
      ],
      "metadata": {
        "id": "TlwcPO2-a87b"
      },
      "execution_count": null,
      "outputs": []
    },
    {
      "cell_type": "markdown",
      "source": [
        "## ***5. Hypothesis Testing***"
      ],
      "metadata": {
        "id": "g-ATYxFrGrvw"
      }
    },
    {
      "cell_type": "markdown",
      "source": [
        "### Based on your chart experiments, define three hypothetical statements from the dataset. In the next three questions, perform hypothesis testing to obtain final conclusion about the statements through your code and statistical testing."
      ],
      "metadata": {
        "id": "Yfr_Vlr8HBkt"
      }
    },
    {
      "cell_type": "markdown",
      "source": [
        "Answer Here."
      ],
      "metadata": {
        "id": "-7MS06SUHkB-"
      }
    },
    {
      "cell_type": "markdown",
      "source": [
        "### Hypothetical Statement - 1"
      ],
      "metadata": {
        "id": "8yEUt7NnHlrM"
      }
    },
    {
      "cell_type": "markdown",
      "source": [
        "#### 1. State Your research hypothesis as a null hypothesis and alternate hypothesis."
      ],
      "metadata": {
        "id": "tEA2Xm5dHt1r"
      }
    },
    {
      "cell_type": "markdown",
      "source": [
        "\n",
        "Null hypothesis: Recent customers do not tend to spend more than older customers.\n",
        "\n",
        "Alternative hypothesis: Recent customers tend to spend more than older customers."
      ],
      "metadata": {
        "id": "HI9ZP0laH0D-"
      }
    },
    {
      "cell_type": "markdown",
      "source": [
        "#### 2. Perform an appropriate statistical test."
      ],
      "metadata": {
        "id": "I79__PHVH19G"
      }
    },
    {
      "cell_type": "code",
      "source": [
        "# Perform Statistical Test to obtain P-Value\n",
        "# Perform Statistical Test to obtain P-Value\n",
        "from scipy.stats import ttest_ind\n",
        "\n",
        "# create two groups: recent (made a purchase within the last 30 days) and older (made a purchase more than 30 days ago)\n",
        "recent = rfm_data[rfm_data['Recency'] <= 30]\n",
        "older = rfm_data[rfm_data['Recency'] > 30]\n",
        "\n",
        "# calculate mean monetary value for each group\n",
        "mean_recent = np.mean(recent['MonetaryValue'])\n",
        "mean_older = np.mean(older['MonetaryValue'])\n",
        "\n",
        "# state the null hypothesis and alternative hypothesis\n",
        "null_hypothesis = \"Recent customers do not tend to have a higher monetary value than older customers\"\n",
        "alternative_hypothesis = \"Recent customers tend to have a higher monetary value than older customers\"\n",
        "\n",
        "# perform two-sample t-test\n",
        "t, p = ttest_ind(recent['MonetaryValue'], older['MonetaryValue'], equal_var=True)\n",
        "\n",
        "# determine whether to reject the null hypothesis based on the p-value\n",
        "alpha = 0.05\n",
        "if p < alpha:\n",
        "    print(\"Reject the null hypothesis. \" + alternative_hypothesis)\n",
        "else:\n",
        "    print(\"Fail to reject the null hypothesis. \" + null_hypothesis)\n",
        "\n",
        "# output the mean monetary value for each group, as well as the t-statistic and p-value\n",
        "print(\"Mean monetary value of recent customers: \", mean_recent)\n",
        "print(\"Mean monetary value of non-recent customers: \", mean_older)\n",
        "print(\"T-statistic: \", t)\n",
        "print(\"P-value: \", p)\n",
        "print(\"Degrees of freedom: \", len(recent) + len(older) - 2)\n"
      ],
      "metadata": {
        "id": "oZrfquKtyian"
      },
      "execution_count": null,
      "outputs": []
    },
    {
      "cell_type": "markdown",
      "source": [
        "**The null hypothesis is rejected, indicating that recent customers exhibit a higher monetary value compared to older customers.**\n",
        "\n"
      ],
      "metadata": {
        "id": "ZYgpM_e8bSFk"
      }
    },
    {
      "cell_type": "markdown",
      "source": [
        "##### Which statistical test have you done to obtain P-Value?"
      ],
      "metadata": {
        "id": "Ou-I18pAyIpj"
      }
    },
    {
      "cell_type": "markdown",
      "source": [
        "The statistical test used to obtain the p-value in this code is the two-sample t-test.\n",
        "\n"
      ],
      "metadata": {
        "id": "s2U0kk00ygSB"
      }
    },
    {
      "cell_type": "markdown",
      "source": [
        "##### Why did you choose the specific statistical test?"
      ],
      "metadata": {
        "id": "fF3858GYyt-u"
      }
    },
    {
      "cell_type": "markdown",
      "source": [
        "\n",
        "\n",
        "The specific statistical test, which is the two-sample t-test, was chosen in this case because we are comparing the mean monetary values between two groups: recent customers (made a purchase within the last 30 days) and older customers (made a purchase more than 30 days ago). The two-sample t-test is commonly used when comparing means of two independent groups, making it an appropriate choice for this scenario."
      ],
      "metadata": {
        "id": "HO4K0gP5y3B4"
      }
    },
    {
      "cell_type": "markdown",
      "source": [
        "### Hypothetical Statement - 2"
      ],
      "metadata": {
        "id": "4_0_7-oCpUZd"
      }
    },
    {
      "cell_type": "markdown",
      "source": [
        "#### 1. State Your research hypothesis as a null hypothesis and alternate hypothesis."
      ],
      "metadata": {
        "id": "hwyV_J3ipUZe"
      }
    },
    {
      "cell_type": "markdown",
      "source": [
        "Null hypothesis: Frequent customers do not spend more than non-frequent customers.\n",
        "\n",
        "Alternative hypothesis: Frequent customers spend more than non-frequent customers.\n",
        "\n"
      ],
      "metadata": {
        "id": "FnpLGJ-4pUZe"
      }
    },
    {
      "cell_type": "markdown",
      "source": [
        "#### 2. Perform an appropriate statistical test."
      ],
      "metadata": {
        "id": "3yB-zSqbpUZe"
      }
    },
    {
      "cell_type": "code",
      "source": [
        "# Perform Statistical Test to obtain P-Value\n",
        "# Perform Statistical Test to obtain P-Value\n",
        "# create two groups: frequent (made more than 10 purchases) and non-frequent (made 10 or fewer purchases)\n",
        "frequent = rfm_data[rfm_data['Frequency'] > 10]\n",
        "non_frequent = rfm_data[rfm_data['Frequency'] <= 10]\n",
        "\n",
        "# calculate mean monetary value for each group\n",
        "mean_frequent = np.mean(frequent['MonetaryValue'])\n",
        "mean_non_frequent = np.mean(non_frequent['MonetaryValue'])\n",
        "\n",
        "# state the null hypothesis and alternative hypothesis\n",
        "null_hypothesis = \"Frequent customers do not spend more than non-frequent customers\"\n",
        "alternative_hypothesis = \"Frequent customers spend more than non-frequent customers\"\n",
        "\n",
        "# perform two-sample t-test\n",
        "t, p = ttest_ind(frequent['MonetaryValue'], non_frequent['MonetaryValue'], equal_var=True)\n",
        "\n",
        "# determine whether to reject the null hypothesis based on the p-value\n",
        "alpha = 0.05\n",
        "if p < alpha:\n",
        "    print(\"Reject the null hypothesis. \" + alternative_hypothesis)\n",
        "else:\n",
        "    print(\"Fail to reject the null hypothesis. \" + null_hypothesis)\n",
        "\n",
        "# output the mean monetary value for each group, as well as the t-statistic and p-value\n",
        "print(\"Mean monetary value of frequent customers: \", mean_frequent)\n",
        "print(\"Mean monetary value of non-frequent customers: \", mean_non_frequent)\n",
        "print(\"Standard deviation of monetary value for frequent customers: \", np.std(frequent['MonetaryValue']))\n",
        "print(\"Standard deviation of monetary value for non-frequent customers: \", np.std(non_frequent['MonetaryValue']))\n",
        "print(\"T-statistic: \", t)\n",
        "print(\"P-value: \", p)\n",
        "print(\"Degrees of freedom: \", len(frequent) + len(non_frequent) - 2)"
      ],
      "metadata": {
        "id": "sWxdNTXNpUZe"
      },
      "execution_count": null,
      "outputs": []
    },
    {
      "cell_type": "markdown",
      "source": [
        "##### Which statistical test have you done to obtain P-Value?"
      ],
      "metadata": {
        "id": "dEUvejAfpUZe"
      }
    },
    {
      "cell_type": "markdown",
      "source": [
        "The statistical test used to obtain the p-value in this code is the two-sample t-test"
      ],
      "metadata": {
        "id": "oLDrPz7HpUZf"
      }
    },
    {
      "cell_type": "markdown",
      "source": [
        "##### Why did you choose the specific statistical test?"
      ],
      "metadata": {
        "id": "Fd15vwWVpUZf"
      }
    },
    {
      "cell_type": "markdown",
      "source": [
        "The specific statistical test chosen in this code is the two-sample t-test. It is used to compare the mean monetary values between two groups: frequent customers (more than 10 purchases) and non-frequent customers (10 or fewer purchases). The t-test is appropriate for comparing means between independent groups."
      ],
      "metadata": {
        "id": "4xOGYyiBpUZf"
      }
    },
    {
      "cell_type": "markdown",
      "source": [
        "## ***6. Feature Engineering & Data Pre-processing***"
      ],
      "metadata": {
        "id": "yLjJCtPM0KBk"
      }
    },
    {
      "cell_type": "markdown",
      "source": [
        "# 1. Data Normalization\n",
        "To normalize the data, logarithmic transformations were performed on the Recency and Monetary features, while a natural logarithmic transformation was applied to the Frequency feature. These transformations aimed to mitigate the influence of outliers and scale the data appropriately. Prior to the logarithmic transformations, a small constant value of 0.1 was added to the original values to prevent taking the logarithm of zero or negative values."
      ],
      "metadata": {
        "id": "xiyOF9F70UgQ"
      }
    },
    {
      "cell_type": "code",
      "source": [
        "# Normalize Your data\n",
        "# Calculate the logarithmic values of the Recency and Monetary features\n",
        "r_log = np.log(rfm_data['Recency'] + 0.1)  # logarithmic value of the Recency feature\n",
        "m_log = np.log(rfm_data['MonetaryValue'] + 0.1)  # logarithmic value of the Monetary feature\n",
        "f_log = np.log(rfm_data['Frequency'])  # calculate the natural log of the 'Frequency' column\n",
        ""
      ],
      "metadata": {
        "id": "iRsAHk1K0fpS"
      },
      "execution_count": null,
      "outputs": []
    },
    {
      "cell_type": "code",
      "source": [
        "# Create a dictionary with the logarithmic values of the Monetary, Recency, and Frequency features\n",
        "data = {\n",
        "    'Monetary': m_log,  # logarithmic value of the Monetary feature\n",
        "    'Recency': r_log,   # logarithmic value of the Recency feature\n",
        "    'Frequency': f_log  # logarithmic value of the Frequency feature\n",
        "}\n",
        "\n",
        "# Create a pandas DataFrame from the dictionary\n",
        "log_data = pd.DataFrame(data)\n",
        "log_data.head()\n",
        ""
      ],
      "metadata": {
        "id": "rSjo7tJhc0iG"
      },
      "execution_count": null,
      "outputs": []
    },
    {
      "cell_type": "markdown",
      "source": [
        "**Plot the distribution of Recency, Frequency, and MonetaryValue after Data Normalization**\n"
      ],
      "metadata": {
        "id": "uJhIlA5Xc6c_"
      }
    },
    {
      "cell_type": "code",
      "source": [
        "# Use seaborn's pairplot function to create a scatter matrix for each pair of features in the data\n",
        "sns.pairplot(data=log_data, diag_kind='kde')"
      ],
      "metadata": {
        "id": "k9NKB3f9dBky"
      },
      "execution_count": null,
      "outputs": []
    },
    {
      "cell_type": "markdown",
      "source": [
        "The Frequency and Monetary features exhibit improved distributions, appearing closer to normal. However, the Recency feature has shown some improvement in its distribution but remains less well-normalized compared to the other two features."
      ],
      "metadata": {
        "id": "1qF3JDofdG7L"
      }
    },
    {
      "cell_type": "code",
      "source": [
        "# Calculate the skewness of each feature in the data\n",
        "log_data.skew()"
      ],
      "metadata": {
        "id": "7pqJ0HiXdLi3"
      },
      "execution_count": null,
      "outputs": []
    },
    {
      "cell_type": "markdown",
      "source": [
        "**Correlation Heatmap**"
      ],
      "metadata": {
        "id": "QnuQ8U2FdP4T"
      }
    },
    {
      "cell_type": "code",
      "source": [
        "# Features correlation after log transformation or data normalization\n",
        "sns.heatmap(log_data.corr(),annot=True, cmap='Reds')"
      ],
      "metadata": {
        "id": "tewch_QmdPja"
      },
      "execution_count": null,
      "outputs": []
    },
    {
      "cell_type": "markdown",
      "source": [
        "The correlation between Monetary and Frequency is now stronger.\n",
        "\n"
      ],
      "metadata": {
        "id": "ogr89e9Fda8v"
      }
    },
    {
      "cell_type": "markdown",
      "source": [
        "### 6. Data Scaling"
      ],
      "metadata": {
        "id": "rMDnDkt2B6du"
      }
    },
    {
      "cell_type": "code",
      "source": [
        "# Scaling your data\n",
        "# Define the features to use for K-means\n",
        "features = ['Recency', 'Frequency', 'Monetary']\n",
        "\n",
        "# Standardize the feature values\n",
        "scaler = StandardScaler()\n",
        "X = scaler.fit_transform(log_data[features].values)\n",
        "\n",
        "X"
      ],
      "metadata": {
        "id": "dL9LWpySC6x_"
      },
      "execution_count": null,
      "outputs": []
    },
    {
      "cell_type": "markdown",
      "source": [
        "##### Which method have you used to scale you data and why?\n",
        "\n",
        "I employed Standardization to ensure consistent scale and distribution among my features. This is crucial as certain machine learning algorithms are sensitive to feature scale and distribution, and Standardization helps avoid biased results.\n",
        "\n"
      ],
      "metadata": {
        "id": "yiiVWRdJDDil"
      }
    },
    {
      "cell_type": "markdown",
      "source": [
        "## ***7. ML Model Implementation***"
      ],
      "metadata": {
        "id": "VfCC591jGiD4"
      }
    },
    {
      "cell_type": "markdown",
      "source": [
        "### ML Model - 1\n",
        "\n",
        "ML Model - 1 K-means\n",
        "K-means is an algorithm for clustering data, aiming to group data points into K clusters. Determining the optimal number of clusters can be a complex task. One way to assess the quality of the clusters is by employing the Silhouette Coefficient, which measures how similar each data point is to its assigned cluster. A higher Silhouette Score indicates better cluster quality. For achieving a high-quality solution, it is recommended to initialize the k-means algorithm using the k-means++ method.\n",
        "\n"
      ],
      "metadata": {
        "id": "OB4l2ZhMeS1U"
      }
    },
    {
      "cell_type": "markdown",
      "source": [
        "# **K-Means with silhouette_score**\n"
      ],
      "metadata": {
        "id": "tMgQxWr9d5sW"
      }
    },
    {
      "cell_type": "code",
      "source": [
        "# ML Model - 1 Implementation\n",
        "silhouette_scores = []\n",
        "\n",
        "# Loop over different values of K\n",
        "for n_clusters in range(2, 16):\n",
        "    # Initialize the KMeans model with the number of clusters\n",
        "    kmeans = KMeans(n_clusters=n_clusters, init='k-means++')\n",
        "\n",
        "    # Fit the KMeans model to the data\n",
        "    kmeans.fit(X)\n",
        "\n",
        "    # Predict the cluster labels for each data point\n",
        "    labels = kmeans.labels_\n",
        "\n",
        "    # Calculate the silhouette score for this solution\n",
        "    silhouette = silhouette_score(X, labels)\n",
        "\n",
        "    # Append the silhouette score to the array\n",
        "    silhouette_scores.append(silhouette)\n",
        "\n",
        "    # Print the silhouette score for this solution\n",
        "    print(f\"Silhouette score for {n_clusters} clusters: {silhouette:.3f}\")\n"
      ],
      "metadata": {
        "id": "7ebyywQieS1U"
      },
      "execution_count": null,
      "outputs": []
    },
    {
      "cell_type": "markdown",
      "source": [
        "#### 1. Explain the ML Model used and it's performance using Evaluation metric Score Chart."
      ],
      "metadata": {
        "id": "ArJBuiUVfxKd"
      }
    },
    {
      "cell_type": "code",
      "source": [
        "# Visualizing evaluation Metric Score chart\n",
        "# Plot the silhouette scores\n",
        "plt.plot(range(2, 16), silhouette_scores, '-o', color='red', markersize=10, linewidth=2)\n",
        "plt.xlabel('Number of clusters (K)', fontsize=14)\n",
        "plt.ylabel('Silhouette score', fontsize=14)\n",
        "plt.title('Silhouette score for different values of K', fontsize=16)\n",
        "plt.xticks(range(2, 16), fontsize=12)\n",
        "plt.yticks(fontsize=12)\n",
        "plt.grid(True)\n",
        "plt.show()"
      ],
      "metadata": {
        "id": "rqD5ZohzfxKe"
      },
      "execution_count": null,
      "outputs": []
    },
    {
      "cell_type": "markdown",
      "source": [
        "The K-means model performs best with 2 clusters (Silhouette score: 0.396), showing decreasing scores as the number of clusters increases. Scores stabilize around 0.26-0.27 from 7 clusters onwards, indicating less distinct separation."
      ],
      "metadata": {
        "id": "odv4lM4XeYpz"
      }
    },
    {
      "cell_type": "code",
      "source": [
        "\n",
        "# Instantiate a KMeans object with 2 clusters\n",
        "kmeans = KMeans(n_clusters=2)\n",
        "\n",
        "# Fit the input data X to the KMeans model\n",
        "kmeans.fit(X)\n",
        "\n",
        "# Predict the cluster labels for the input data X using the trained KMeans model\n",
        "y_kmeans = kmeans.predict(X)\n"
      ],
      "metadata": {
        "id": "77OZvam0ec4s"
      },
      "execution_count": null,
      "outputs": []
    },
    {
      "cell_type": "code",
      "source": [
        "# Visualization of customer segmentation based On RFM features.\n",
        "# Set the figure size and title for the scatter plot\n",
        "plt.figure(figsize=(12,8))\n",
        "plt.title('Customer Segmentation Based on RFM Features')\n",
        "\n",
        "# Plot the scatter plot using the first two features of the input data X and the predicted cluster labels y_kmeans\n",
        "plt.scatter(X[:, 0], X[:, 1], c=y_kmeans, s=50, cmap='RdYlBu')\n",
        "\n",
        "# Get the cluster centers from the trained KMeans model and plot them as yellow circles with transparency\n",
        "centers = kmeans.cluster_centers_\n",
        "plt.scatter(centers[:, 0], centers[:, 1], c='yellow', s=200, alpha=0.5, edgecolor='black')\n",
        "\n",
        "# Set the x-axis and y-axis labels\n",
        "plt.xlabel('Recency')\n",
        "plt.ylabel('Frequency')\n",
        "\n",
        "# Add a color bar to the plot to show the correspondence between the colors and the cluster labels\n",
        "color_bar = plt.colorbar()\n",
        "color_bar.set_ticks(np.unique(y_kmeans))\n",
        "color_bar.set_ticklabels(['Cluster {}'.format(i) for i in np.unique(y_kmeans)])\n",
        "\n",
        "# Show the plot\n",
        "plt.show()"
      ],
      "metadata": {
        "id": "NnWkSnipegOG"
      },
      "execution_count": null,
      "outputs": []
    },
    {
      "cell_type": "markdown",
      "source": [
        "The scatter plot presents a visual representation of customer segmentation using RFM features, uncovering distinct clusters that help businesses identify similar customer behavior and customize marketing strategies. The cluster centers (yellow circles) visually depict the typical RFM profile of each customer segment, enabling targeted marketing and personalized recommendations for improved customer experiences, loyalty, and positive business outcomes.\n",
        "\n"
      ],
      "metadata": {
        "id": "sFSi2Sv_ekid"
      }
    },
    {
      "cell_type": "markdown",
      "source": [
        "# **K-Means with Elbow method**\n",
        "\n",
        "The elbow method is employed to determine the ideal number of clusters for KMeans clustering. This approach entails plotting the within-cluster sum of squares (WCSS) against the number of clusters. The elbow point observed on the plot represents the optimal number of clusters that strikes a balance between model complexity and capturing the underlying structure of the data."
      ],
      "metadata": {
        "id": "BWaiwXeweod8"
      }
    },
    {
      "cell_type": "code",
      "source": [
        "# Input data X\n",
        "\n",
        "wcss = []  # Initialize an empty list to store the WCSS values for different number of clusters\n",
        "\n",
        "for i in range(1, 11):\n",
        "    kmeans = KMeans(n_clusters=i, init='k-means++', max_iter=300, n_init=10, random_state=0)  # Create a KMeans instance for each number of clusters\n",
        "    kmeans.fit(X)  # Fit the KMeans model to the input data X\n",
        "    wcss.append(kmeans.inertia_)  # Append the WCSS value to the list for the current number of clusters\n",
        "\n",
        "# Plot the WCSS values against the number of clusters\n",
        "plt.figure(figsize=(10,6))\n",
        "plt.plot(range(1, 11), wcss, marker='o', linestyle='--')\n",
        "plt.title('The Elbow Method')\n",
        "plt.xlabel('Number of Clusters')\n",
        "plt.ylabel('WCSS')\n",
        "plt.xticks(np.arange(1, 11, 1))\n",
        "plt.grid(True)\n",
        "plt.show()"
      ],
      "metadata": {
        "id": "sgTf-KwBeuAW"
      },
      "execution_count": null,
      "outputs": []
    },
    {
      "cell_type": "code",
      "source": [
        "# Create an instance of the KMeans model with 2 clusters and initialize the centroids using the 'k-means++' method\n",
        "KMean_clust = KMeans(n_clusters= 2, init= 'k-means++', max_iter= 1000)\n",
        "\n",
        "# Fit the KMeans model to the data in the X variable\n",
        "KMean_clust.fit(X)\n",
        "\n",
        "# Add a new column to the rfm_df dataframe to store the cluster labels for each observation\n",
        "rfm_dataframe['Cluster'] = KMean_clust.labels_\n",
        "\n",
        "# Display the first 10 rows of the rfm_df dataframe with the new 'Cluster' column\n",
        "rfm_dataframe.head(10)"
      ],
      "metadata": {
        "id": "2PGjTG7Ye0fr"
      },
      "execution_count": null,
      "outputs": []
    },
    {
      "cell_type": "markdown",
      "source": [
        "# **ML Model - 2 Agglomerative hierarchical clustering**\n",
        "\n",
        "Agglomerative Hierarchical Clustering is a clustering technique that begins by assigning each data point to its own cluster and subsequently merges the closest clusters until only one cluster remains. This process generates a hierarchical structure resembling a tree. Various distance metrics and linkage criteria can be employed to assess the proximity between clusters. This method is widely utilized and highly efficient for performing exploratory data analysis."
      ],
      "metadata": {
        "id": "dJ2tPlVmpsJ0"
      }
    },
    {
      "cell_type": "code",
      "source": [
        "# Create an instance of AgglomerativeClustering with 2 clusters, euclidean affinity, and ward linkage\n",
        "model = AgglomerativeClustering(n_clusters=2, affinity='euclidean', linkage='ward')\n",
        "\n",
        "# Fit the input data X to the model\n",
        "model.fit(X)\n",
        ""
      ],
      "metadata": {
        "id": "L98LZvm9fKaF"
      },
      "execution_count": null,
      "outputs": []
    },
    {
      "cell_type": "markdown",
      "source": [
        "#### 1. Explain the ML Model used and it's performance using Evaluation metric Score Chart."
      ],
      "metadata": {
        "id": "JWYfwnehpsJ1"
      }
    },
    {
      "cell_type": "code",
      "source": [
        "# Visualizing evaluation Metric Score chart\n",
        "# Visualizing evaluation Metric Score chart\n",
        "# Set the figure size and title for the dendrogram plot\n",
        "plt.figure(figsize=(15, 12))\n",
        "plt.title('Agglomerative Hierarchical Clustering Dendogram')\n",
        "\n",
        "# Set the x and y-axis labels for the dendrogram plot\n",
        "plt.xlabel('Sample index')\n",
        "plt.ylabel('Distance')\n",
        "\n",
        "# Create a linkage matrix using the input data X and the ward linkage method\n",
        "Z = linkage(X, 'ward')\n",
        "\n",
        "# Plot the dendrogram with specified parameters\n",
        "dendrogram(Z, leaf_rotation=90.0, p=25, color_threshold=80, leaf_font_size=10, truncate_mode='level')\n",
        "\n",
        "# Ensure tight layout of the plot\n",
        "plt.tight_layout()\n"
      ],
      "metadata": {
        "id": "yEl-hgQWpsJ1"
      },
      "execution_count": null,
      "outputs": []
    },
    {
      "cell_type": "markdown",
      "source": [
        "I selected a dendrogram plot as it is a popular visualization technique for hierarchical clustering, the specific clustering method utilized here. The dendrogram plot provides a visual representation of how data points are grouped together based on their proximity to one another. It aids in determining the ideal number of clusters and understanding the hierarchical structure of the clusters.\n",
        "\n",
        "By analyzing the dendrogram plot, valuable insights can be gleaned, such as identifying the optimal number of clusters and discerning the similarity between observations or clusters. This knowledge can be utilized to formulate more focused marketing or sales strategies, leading to improved business performance as a whole."
      ],
      "metadata": {
        "id": "zBZNSHAIffJR"
      }
    },
    {
      "cell_type": "markdown",
      "source": [
        "# **ML Model - 3 DBSCAN (Density-Based Spatial Clustering of Applications with Noise)**"
      ],
      "metadata": {
        "id": "Fze-IPXLpx6K"
      }
    },
    {
      "cell_type": "code",
      "source": [
        "# ML Model - 1 Implementation\n",
        "dbscan = DBSCAN(eps=0.5, min_samples=15)\n",
        "# Fit the Algorithm\n",
        "dbscan.fit(X)"
      ],
      "metadata": {
        "id": "FFrSXAtrpx6M"
      },
      "execution_count": null,
      "outputs": []
    },
    {
      "cell_type": "markdown",
      "source": [
        "#### 1. Explain the ML Model used and it's performance using Evaluation metric Score Chart."
      ],
      "metadata": {
        "id": "7AN1z2sKpx6M"
      }
    },
    {
      "cell_type": "code",
      "source": [
        "# Visualizing evaluation Metric Score chart\n",
        "# Visualizing evaluation Metric Score chart\n",
        "# Plot the results\n",
        "plt.scatter(X[:,0], X[:,1], c=dbscan.labels_, cmap='rainbow')  # Scatter plot of the data points, with colors representing the cluster labels assigned by DBSCAN\n",
        "plt.title('DBSCAN Clustering')  # Set the title of the plot\n",
        "plt.xlabel('Feature 1')  # Label the x-axis\n",
        "plt.ylabel('Feature 2')  # Label the y-axis\n",
        "plt.show()  # Display the plot"
      ],
      "metadata": {
        "id": "xIY4lxxGpx6M"
      },
      "execution_count": null,
      "outputs": []
    },
    {
      "cell_type": "markdown",
      "source": [
        "The chart used is a scatter plot, which is a suitable choice for visualizing the clustering results of DBSCAN. The x and y axes represent the two features of the dataset, and the points are colored based on their assigned cluster labels.\n",
        "\n",
        "The insights gained from the chart include identifying the clusters formed by the DBSCAN algorithm and their density. The points that are closer to each other are assigned to the same cluster, and the outliers or noise points are labeled as -1. By observing the distribution of the points and the density of the clusters, we can understand the structure and characteristics of the data, and potentially find any patterns or anomalies.\n",
        "\n",
        "The gained insights can help in creating a positive business impact by identifying groups of similar data points, which can aid in targeting specific segments of customers or optimizing operational processes."
      ],
      "metadata": {
        "id": "BhGzzh5af9ny"
      }
    },
    {
      "cell_type": "markdown",
      "source": [
        "# **Summary Table**"
      ],
      "metadata": {
        "id": "ODwP0x61gHmE"
      }
    },
    {
      "cell_type": "code",
      "source": [
        "\n",
        "# Initialize the table with specified column names\n",
        "my_table = PrettyTable(['SL No.', \"Model_Name\", 'Data', \"Optimal_Number_of_cluster\"])\n",
        "\n",
        "# Add rows to the table\n",
        "my_table.add_row(['1', \"K-Means with silhouette_score\", \"RFM\", \"2\"])\n",
        "my_table.add_row(['2', \"K-Means with Elbow method\", \"RFM\", \"2\"])\n",
        "my_table.add_row(['3', \"Hierarchical clustering\", \"RFM\", \"2\"])\n",
        "my_table.add_row(['4',\"DBSCAN \", \"RFM\", \"3\"])\n",
        "\n",
        "# Print the table\n",
        "print(my_table)"
      ],
      "metadata": {
        "id": "ZOH8Y87GgMro"
      },
      "execution_count": null,
      "outputs": []
    },
    {
      "cell_type": "markdown",
      "source": [
        "## ***8.*** ***Future Work (Optional)***"
      ],
      "metadata": {
        "id": "EyNgTHvd2WFk"
      }
    },
    {
      "cell_type": "markdown",
      "source": [
        "### 1. Save the best performing ml model in a pickle file or joblib file format for deployment process.\n"
      ],
      "metadata": {
        "id": "KH5McJBi2d8v"
      }
    },
    {
      "cell_type": "code",
      "source": [
        "# Save the File"
      ],
      "metadata": {
        "id": "bQIANRl32f4J"
      },
      "execution_count": null,
      "outputs": []
    },
    {
      "cell_type": "markdown",
      "source": [
        "### 2. Again Load the saved model file and try to predict unseen data for a sanity check.\n"
      ],
      "metadata": {
        "id": "iW_Lq9qf2h6X"
      }
    },
    {
      "cell_type": "code",
      "source": [
        "# Load the File and predict unseen data."
      ],
      "metadata": {
        "id": "oEXk9ydD2nVC"
      },
      "execution_count": null,
      "outputs": []
    },
    {
      "cell_type": "markdown",
      "source": [
        "### ***Congrats! Your model is successfully created and ready for deployment on a live server for a real user interaction !!!***"
      ],
      "metadata": {
        "id": "-Kee-DAl2viO"
      }
    },
    {
      "cell_type": "markdown",
      "source": [
        "# **Conclusion**"
      ],
      "metadata": {
        "id": "gCX9965dhzqZ"
      }
    },
    {
      "cell_type": "markdown",
      "source": [
        "EDA\n",
        "\n",
        "Prior to clustering, any null values and duplicates were eliminated from the dataset.\n",
        "\n",
        "The customer IDs with the highest frequency were identified as 17841.0, 14911.0, 14096.0, 12748.0, and 14606.0.\n",
        "\n",
        "Based on the percentage of total orders, the top five countries were the United Kingdom (88.95%), Germany (2.33%), France (1.84%), Ireland (1.84%), and Spain (0.62%).\n",
        "\n",
        "The most frequently purchased products were the White Hanging Heart T-Light Holder, Regency Cakestand 3 Tier, Jumbo Bag Red Retrospot, Party Bunting, and Assorted Colour Bird Ornament.\n",
        "\n",
        "The stock codes with the highest count values were identified as 85123A, 22423, 85099B, 47566, and 84879.\n",
        "\n",
        "Additional columns, such as Year, Month, Day, Hour, Month_Num, and Day_Num, were created using the InvoiceDate field.\n",
        "\n",
        "The total amount for each order was computed by multiplying the unit price with the quantity.\n",
        "\n",
        "The months generating the highest business volume were November, October, December, September, and May.\n",
        "\n",
        "Thursday, Wednesday, Tuesday, Monday, Saturday, and Friday emerged as the most popular purchasing days.\n",
        "\n",
        "The majority of customers made purchases between 10:00 A.M. and 2:00 P.M.\n",
        "\n",
        "The preferred time durations for purchasing were found to be the afternoon, followed by the morning and evening."
      ],
      "metadata": {
        "id": "Fjb1IsQkh3yE"
      }
    },
    {
      "cell_type": "markdown",
      "source": [
        "### ***Hurrah! You have successfully completed your Machine Learning Capstone Project !!!***"
      ],
      "metadata": {
        "id": "gIfDvo9L0UH2"
      }
    }
  ]
}